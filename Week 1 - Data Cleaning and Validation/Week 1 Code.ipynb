{
 "cells": [
  {
   "cell_type": "markdown",
   "id": "f0465444-03d6-407d-b939-91f85ba24c50",
   "metadata": {},
   "source": [
    "# Excelerate Data Cleaning"
   ]
  },
  {
   "cell_type": "markdown",
   "id": "b8304e4d-2035-47ab-9edf-d15c53abbe8a",
   "metadata": {},
   "source": [
    "**Tasks done by Krishin Tharani start from here**"
   ]
  },
  {
   "cell_type": "markdown",
   "id": "e33d8d13-367f-47a1-bb5a-20661fd2d1e9",
   "metadata": {},
   "source": [
    "## Loading the Data"
   ]
  },
  {
   "cell_type": "code",
   "execution_count": 2,
   "id": "de60cf5f-867e-4ee7-8b95-38f4ff6960d0",
   "metadata": {},
   "outputs": [],
   "source": [
    "import pandas as pd"
   ]
  },
  {
   "cell_type": "code",
   "execution_count": 4,
   "id": "27b924e4-47fe-43d5-9854-651e76e04308",
   "metadata": {},
   "outputs": [
    {
     "data": {
      "text/html": [
       "<div>\n",
       "<style scoped>\n",
       "    .dataframe tbody tr th:only-of-type {\n",
       "        vertical-align: middle;\n",
       "    }\n",
       "\n",
       "    .dataframe tbody tr th {\n",
       "        vertical-align: top;\n",
       "    }\n",
       "\n",
       "    .dataframe thead th {\n",
       "        text-align: right;\n",
       "    }\n",
       "</style>\n",
       "<table border=\"1\" class=\"dataframe\">\n",
       "  <thead>\n",
       "    <tr style=\"text-align: right;\">\n",
       "      <th></th>\n",
       "      <th>Profile Id</th>\n",
       "      <th>Learner SignUp DateTime</th>\n",
       "      <th>Opportunity Id</th>\n",
       "      <th>Opportunity Name</th>\n",
       "      <th>Opportunity Category</th>\n",
       "      <th>Opportunity End Date</th>\n",
       "      <th>First Name</th>\n",
       "      <th>Last Name</th>\n",
       "      <th>Date of Birth</th>\n",
       "      <th>Gender</th>\n",
       "      <th>...</th>\n",
       "      <th>Status Code</th>\n",
       "      <th>Apply Date</th>\n",
       "      <th>Opportunity Start Date</th>\n",
       "      <th>Reward Awarded Date</th>\n",
       "      <th>Completion Date</th>\n",
       "      <th>Reward Amount</th>\n",
       "      <th>Badge Id</th>\n",
       "      <th>Badge Name</th>\n",
       "      <th>Skill Points Earned</th>\n",
       "      <th>Skills Earned</th>\n",
       "    </tr>\n",
       "  </thead>\n",
       "  <tbody>\n",
       "    <tr>\n",
       "      <th>0</th>\n",
       "      <td>004b8a25-17d4-4e9a-a41b-b5336327e170</td>\n",
       "      <td>06/14/2023 12:30:35</td>\n",
       "      <td>00000000-0GN2-A0AY-7XK8-C5FZPP</td>\n",
       "      <td>Career Essentials: Getting Started with Your P...</td>\n",
       "      <td>Course</td>\n",
       "      <td>06/29/2024 18:52:39</td>\n",
       "      <td>Faria</td>\n",
       "      <td>Khan</td>\n",
       "      <td>2001-12-01 00:00:00</td>\n",
       "      <td>Female</td>\n",
       "      <td>...</td>\n",
       "      <td>1080.0</td>\n",
       "      <td>06/14/2023 12:36:09</td>\n",
       "      <td>2022-03-11 18:30:39</td>\n",
       "      <td>NaN</td>\n",
       "      <td>NaN</td>\n",
       "      <td>NaN</td>\n",
       "      <td>NaN</td>\n",
       "      <td>NaN</td>\n",
       "      <td>NaN</td>\n",
       "      <td>NaN</td>\n",
       "    </tr>\n",
       "    <tr>\n",
       "      <th>1</th>\n",
       "      <td>00628747-9775-4a85-a179-4d5007ccb8b7</td>\n",
       "      <td>2023-01-05 05:29:16</td>\n",
       "      <td>00000000-0GN2-A0AY-7XK8-C5FZPP</td>\n",
       "      <td>Career Essentials: Getting Started with Your P...</td>\n",
       "      <td>Course</td>\n",
       "      <td>06/29/2024 18:52:39</td>\n",
       "      <td>Poojitha</td>\n",
       "      <td>Bembadi</td>\n",
       "      <td>08/16/2000</td>\n",
       "      <td>Female</td>\n",
       "      <td>...</td>\n",
       "      <td>1080.0</td>\n",
       "      <td>2023-01-05 06:08:21</td>\n",
       "      <td>2022-03-11 18:30:39</td>\n",
       "      <td>NaN</td>\n",
       "      <td>NaN</td>\n",
       "      <td>NaN</td>\n",
       "      <td>NaN</td>\n",
       "      <td>NaN</td>\n",
       "      <td>NaN</td>\n",
       "      <td>NaN</td>\n",
       "    </tr>\n",
       "    <tr>\n",
       "      <th>2</th>\n",
       "      <td>00841155-6c62-4f83-b165-57ba0df9c031</td>\n",
       "      <td>2023-09-04 20:35:08</td>\n",
       "      <td>00000000-0GN2-A0AY-7XK8-C5FZPP</td>\n",
       "      <td>Career Essentials: Getting Started with Your P...</td>\n",
       "      <td>Course</td>\n",
       "      <td>06/29/2024 18:52:39</td>\n",
       "      <td>Emmanuel</td>\n",
       "      <td>Thompson</td>\n",
       "      <td>01/27/2002</td>\n",
       "      <td>Male</td>\n",
       "      <td>...</td>\n",
       "      <td>1080.0</td>\n",
       "      <td>2023-11-05 00:21:29</td>\n",
       "      <td>2022-03-11 18:30:39</td>\n",
       "      <td>NaN</td>\n",
       "      <td>NaN</td>\n",
       "      <td>NaN</td>\n",
       "      <td>NaN</td>\n",
       "      <td>NaN</td>\n",
       "      <td>NaN</td>\n",
       "      <td>NaN</td>\n",
       "    </tr>\n",
       "    <tr>\n",
       "      <th>3</th>\n",
       "      <td>00f5161c-ba85-472d-9b0a-3301aac78598</td>\n",
       "      <td>08/29/2023 05:20:03</td>\n",
       "      <td>00000000-0GN2-A0AY-7XK8-C5FZPP</td>\n",
       "      <td>Career Essentials: Getting Started with Your P...</td>\n",
       "      <td>Course</td>\n",
       "      <td>06/29/2024 18:52:39</td>\n",
       "      <td>Amrutha Varshini</td>\n",
       "      <td>Anagurthi</td>\n",
       "      <td>1999-01-11 00:00:00</td>\n",
       "      <td>Female</td>\n",
       "      <td>...</td>\n",
       "      <td>1070.0</td>\n",
       "      <td>2023-09-10 22:02:42</td>\n",
       "      <td>2022-03-11 18:30:39</td>\n",
       "      <td>NaN</td>\n",
       "      <td>NaN</td>\n",
       "      <td>NaN</td>\n",
       "      <td>NaN</td>\n",
       "      <td>NaN</td>\n",
       "      <td>NaN</td>\n",
       "      <td>NaN</td>\n",
       "    </tr>\n",
       "    <tr>\n",
       "      <th>4</th>\n",
       "      <td>01273a5e-fcc5-4b1a-a637-19aff497dac1</td>\n",
       "      <td>2023-06-01 15:26:36</td>\n",
       "      <td>00000000-0GN2-A0AY-7XK8-C5FZPP</td>\n",
       "      <td>Career Essentials: Getting Started with Your P...</td>\n",
       "      <td>Course</td>\n",
       "      <td>06/29/2024 18:52:39</td>\n",
       "      <td>Vinay Varshith</td>\n",
       "      <td>Pechetti</td>\n",
       "      <td>04/19/2000</td>\n",
       "      <td>Male</td>\n",
       "      <td>...</td>\n",
       "      <td>1080.0</td>\n",
       "      <td>2023-06-01 15:40:10</td>\n",
       "      <td>2022-03-11 18:30:39</td>\n",
       "      <td>NaN</td>\n",
       "      <td>NaN</td>\n",
       "      <td>NaN</td>\n",
       "      <td>NaN</td>\n",
       "      <td>NaN</td>\n",
       "      <td>NaN</td>\n",
       "      <td>NaN</td>\n",
       "    </tr>\n",
       "  </tbody>\n",
       "</table>\n",
       "<p>5 rows × 33 columns</p>\n",
       "</div>"
      ],
      "text/plain": [
       "                             Profile Id Learner SignUp DateTime  \\\n",
       "0  004b8a25-17d4-4e9a-a41b-b5336327e170     06/14/2023 12:30:35   \n",
       "1  00628747-9775-4a85-a179-4d5007ccb8b7     2023-01-05 05:29:16   \n",
       "2  00841155-6c62-4f83-b165-57ba0df9c031     2023-09-04 20:35:08   \n",
       "3  00f5161c-ba85-472d-9b0a-3301aac78598     08/29/2023 05:20:03   \n",
       "4  01273a5e-fcc5-4b1a-a637-19aff497dac1     2023-06-01 15:26:36   \n",
       "\n",
       "                   Opportunity Id  \\\n",
       "0  00000000-0GN2-A0AY-7XK8-C5FZPP   \n",
       "1  00000000-0GN2-A0AY-7XK8-C5FZPP   \n",
       "2  00000000-0GN2-A0AY-7XK8-C5FZPP   \n",
       "3  00000000-0GN2-A0AY-7XK8-C5FZPP   \n",
       "4  00000000-0GN2-A0AY-7XK8-C5FZPP   \n",
       "\n",
       "                                    Opportunity Name Opportunity Category  \\\n",
       "0  Career Essentials: Getting Started with Your P...               Course   \n",
       "1  Career Essentials: Getting Started with Your P...               Course   \n",
       "2  Career Essentials: Getting Started with Your P...               Course   \n",
       "3  Career Essentials: Getting Started with Your P...               Course   \n",
       "4  Career Essentials: Getting Started with Your P...               Course   \n",
       "\n",
       "  Opportunity End Date        First Name  Last Name        Date of Birth  \\\n",
       "0  06/29/2024 18:52:39             Faria       Khan  2001-12-01 00:00:00   \n",
       "1  06/29/2024 18:52:39          Poojitha    Bembadi           08/16/2000   \n",
       "2  06/29/2024 18:52:39          Emmanuel   Thompson           01/27/2002   \n",
       "3  06/29/2024 18:52:39  Amrutha Varshini  Anagurthi  1999-01-11 00:00:00   \n",
       "4  06/29/2024 18:52:39    Vinay Varshith   Pechetti           04/19/2000   \n",
       "\n",
       "   Gender  ... Status Code           Apply Date Opportunity Start Date  \\\n",
       "0  Female  ...      1080.0  06/14/2023 12:36:09    2022-03-11 18:30:39   \n",
       "1  Female  ...      1080.0  2023-01-05 06:08:21    2022-03-11 18:30:39   \n",
       "2    Male  ...      1080.0  2023-11-05 00:21:29    2022-03-11 18:30:39   \n",
       "3  Female  ...      1070.0  2023-09-10 22:02:42    2022-03-11 18:30:39   \n",
       "4    Male  ...      1080.0  2023-06-01 15:40:10    2022-03-11 18:30:39   \n",
       "\n",
       "  Reward Awarded Date Completion Date Reward Amount Badge Id Badge Name  \\\n",
       "0                 NaN             NaN           NaN      NaN        NaN   \n",
       "1                 NaN             NaN           NaN      NaN        NaN   \n",
       "2                 NaN             NaN           NaN      NaN        NaN   \n",
       "3                 NaN             NaN           NaN      NaN        NaN   \n",
       "4                 NaN             NaN           NaN      NaN        NaN   \n",
       "\n",
       "  Skill Points Earned Skills Earned  \n",
       "0                 NaN           NaN  \n",
       "1                 NaN           NaN  \n",
       "2                 NaN           NaN  \n",
       "3                 NaN           NaN  \n",
       "4                 NaN           NaN  \n",
       "\n",
       "[5 rows x 33 columns]"
      ]
     },
     "execution_count": 4,
     "metadata": {},
     "output_type": "execute_result"
    }
   ],
   "source": [
    "students = pd.read_excel('SLU-Oppurtunity.xlsx')\n",
    "students.head()"
   ]
  },
  {
   "cell_type": "markdown",
   "id": "9ac2b145-0c36-44b1-b50b-233f997940fa",
   "metadata": {},
   "source": [
    "## Describing Data"
   ]
  },
  {
   "cell_type": "code",
   "execution_count": 6,
   "id": "e6e7fb60-cad7-4b70-894b-3a2386fe45aa",
   "metadata": {},
   "outputs": [
    {
     "data": {
      "text/plain": [
       "Profile Id                         object\n",
       "Learner SignUp DateTime            object\n",
       "Opportunity Id                     object\n",
       "Opportunity Name                   object\n",
       "Opportunity Category               object\n",
       "Opportunity End Date               object\n",
       "First Name                         object\n",
       "Last Name                          object\n",
       "Date of Birth                      object\n",
       "Gender                             object\n",
       "Mobile Number                      object\n",
       "Address Line 1                     object\n",
       "Address Line 2                     object\n",
       "City                               object\n",
       "State                              object\n",
       "Country                            object\n",
       "Zip Code                           object\n",
       "Institution Name                   object\n",
       "Graduation Date                    object\n",
       "Current Student Status             object\n",
       "Current/Intended Major             object\n",
       "Entry created at           datetime64[ns]\n",
       "Status Description                 object\n",
       "Status Code                       float64\n",
       "Apply Date                         object\n",
       "Opportunity Start Date             object\n",
       "Reward Awarded Date                object\n",
       "Completion Date                    object\n",
       "Reward Amount                     float64\n",
       "Badge Id                           object\n",
       "Badge Name                         object\n",
       "Skill Points Earned               float64\n",
       "Skills Earned                      object\n",
       "dtype: object"
      ]
     },
     "execution_count": 6,
     "metadata": {},
     "output_type": "execute_result"
    }
   ],
   "source": [
    "# Checking columns datatypes\n",
    "students.dtypes"
   ]
  },
  {
   "cell_type": "code",
   "execution_count": 8,
   "id": "4620dec7-7677-4977-9295-8c7fb83d02bd",
   "metadata": {},
   "outputs": [
    {
     "data": {
      "text/plain": [
       "RangeIndex(start=0, stop=8558, step=1)"
      ]
     },
     "execution_count": 8,
     "metadata": {},
     "output_type": "execute_result"
    }
   ],
   "source": [
    "students.index"
   ]
  },
  {
   "cell_type": "code",
   "execution_count": 10,
   "id": "51c6d173-bf28-447d-a602-5bd5b8b36f12",
   "metadata": {},
   "outputs": [
    {
     "name": "stdout",
     "output_type": "stream",
     "text": [
      "<class 'pandas.core.frame.DataFrame'>\n",
      "RangeIndex: 8558 entries, 0 to 8557\n",
      "Data columns (total 33 columns):\n",
      " #   Column                   Non-Null Count  Dtype         \n",
      "---  ------                   --------------  -----         \n",
      " 0   Profile Id               8558 non-null   object        \n",
      " 1   Learner SignUp DateTime  8558 non-null   object        \n",
      " 2   Opportunity Id           8558 non-null   object        \n",
      " 3   Opportunity Name         8558 non-null   object        \n",
      " 4   Opportunity Category     8558 non-null   object        \n",
      " 5   Opportunity End Date     8558 non-null   object        \n",
      " 6   First Name               8558 non-null   object        \n",
      " 7   Last Name                8558 non-null   object        \n",
      " 8   Date of Birth            8558 non-null   object        \n",
      " 9   Gender                   8558 non-null   object        \n",
      " 10  Mobile Number            8558 non-null   object        \n",
      " 11  Address Line 1           8555 non-null   object        \n",
      " 12  Address Line 2           3556 non-null   object        \n",
      " 13  City                     8558 non-null   object        \n",
      " 14  State                    8557 non-null   object        \n",
      " 15  Country                  8558 non-null   object        \n",
      " 16  Zip Code                 8558 non-null   object        \n",
      " 17  Institution Name         8554 non-null   object        \n",
      " 18  Graduation Date          8558 non-null   object        \n",
      " 19  Current Student Status   8558 non-null   object        \n",
      " 20  Current/Intended Major   8558 non-null   object        \n",
      " 21  Entry created at         8558 non-null   datetime64[ns]\n",
      " 22  Status Description       8558 non-null   object        \n",
      " 23  Status Code              8558 non-null   float64       \n",
      " 24  Apply Date               8558 non-null   object        \n",
      " 25  Opportunity Start Date   4764 non-null   object        \n",
      " 26  Reward Awarded Date      29 non-null     object        \n",
      " 27  Completion Date          29 non-null     object        \n",
      " 28  Reward Amount            29 non-null     float64       \n",
      " 29  Badge Id                 29 non-null     object        \n",
      " 30  Badge Name               29 non-null     object        \n",
      " 31  Skill Points Earned      29 non-null     float64       \n",
      " 32  Skills Earned            29 non-null     object        \n",
      "dtypes: datetime64[ns](1), float64(3), object(29)\n",
      "memory usage: 2.2+ MB\n"
     ]
    }
   ],
   "source": [
    "students.info()"
   ]
  },
  {
   "cell_type": "markdown",
   "id": "634dcab6-b5c6-462b-aefd-91486b5521ed",
   "metadata": {},
   "source": [
    "## Data Cleaning & Validation"
   ]
  },
  {
   "cell_type": "code",
   "execution_count": 12,
   "id": "0a55c82e-b075-482c-b39b-07c125ead2fd",
   "metadata": {},
   "outputs": [
    {
     "name": "stdout",
     "output_type": "stream",
     "text": [
      "<class 'pandas.core.frame.DataFrame'>\n",
      "Int64Index: 8551 entries, 0 to 8557\n",
      "Data columns (total 33 columns):\n",
      " #   Column                   Non-Null Count  Dtype         \n",
      "---  ------                   --------------  -----         \n",
      " 0   Profile Id               8551 non-null   object        \n",
      " 1   Learner SignUp DateTime  8551 non-null   object        \n",
      " 2   Opportunity Id           8551 non-null   object        \n",
      " 3   Opportunity Name         8551 non-null   object        \n",
      " 4   Opportunity Category     8551 non-null   object        \n",
      " 5   Opportunity End Date     8551 non-null   object        \n",
      " 6   First Name               8551 non-null   object        \n",
      " 7   Last Name                8551 non-null   object        \n",
      " 8   Date of Birth            8551 non-null   object        \n",
      " 9   Gender                   8551 non-null   object        \n",
      " 10  Mobile Number            8551 non-null   object        \n",
      " 11  Address Line 1           8551 non-null   object        \n",
      " 12  Address Line 2           3553 non-null   object        \n",
      " 13  City                     8551 non-null   object        \n",
      " 14  State                    8551 non-null   object        \n",
      " 15  Country                  8551 non-null   object        \n",
      " 16  Zip Code                 8551 non-null   object        \n",
      " 17  Institution Name         8551 non-null   object        \n",
      " 18  Graduation Date          8551 non-null   object        \n",
      " 19  Current Student Status   8551 non-null   object        \n",
      " 20  Current/Intended Major   8551 non-null   object        \n",
      " 21  Entry created at         8551 non-null   datetime64[ns]\n",
      " 22  Status Description       8551 non-null   object        \n",
      " 23  Status Code              8551 non-null   float64       \n",
      " 24  Apply Date               8551 non-null   object        \n",
      " 25  Opportunity Start Date   4758 non-null   object        \n",
      " 26  Reward Awarded Date      29 non-null     object        \n",
      " 27  Completion Date          29 non-null     object        \n",
      " 28  Reward Amount            29 non-null     float64       \n",
      " 29  Badge Id                 29 non-null     object        \n",
      " 30  Badge Name               29 non-null     object        \n",
      " 31  Skill Points Earned      29 non-null     float64       \n",
      " 32  Skills Earned            29 non-null     object        \n",
      "dtypes: datetime64[ns](1), float64(3), object(29)\n",
      "memory usage: 2.2+ MB\n"
     ]
    }
   ],
   "source": [
    "# Dropping missing values from specifies columns \n",
    "students = students.dropna(subset=['Address Line 1', 'City', 'State', 'Zip Code', 'Institution Name', 'Current/Intended Major'])\n",
    "students.info()"
   ]
  },
  {
   "cell_type": "code",
   "execution_count": 23,
   "id": "4b9b4449-e63c-4079-8418-bfcad2f30ecd",
   "metadata": {},
   "outputs": [
    {
     "name": "stdout",
     "output_type": "stream",
     "text": [
      "<class 'pandas.core.frame.DataFrame'>\n",
      "Int64Index: 8551 entries, 0 to 8557\n",
      "Data columns (total 32 columns):\n",
      " #   Column                   Non-Null Count  Dtype         \n",
      "---  ------                   --------------  -----         \n",
      " 0   Profile Id               8551 non-null   object        \n",
      " 1   Learner SignUp DateTime  8551 non-null   object        \n",
      " 2   Opportunity Id           8551 non-null   object        \n",
      " 3   Opportunity Name         8551 non-null   object        \n",
      " 4   Opportunity Category     8551 non-null   object        \n",
      " 5   Opportunity End Date     8551 non-null   object        \n",
      " 6   First Name               8551 non-null   object        \n",
      " 7   Last Name                8551 non-null   object        \n",
      " 8   Date of Birth            8551 non-null   object        \n",
      " 9   Gender                   8551 non-null   object        \n",
      " 10  Mobile Number            8551 non-null   object        \n",
      " 11  Address Line 1           8551 non-null   object        \n",
      " 12  City                     8551 non-null   object        \n",
      " 13  State                    8551 non-null   object        \n",
      " 14  Country                  8551 non-null   object        \n",
      " 15  Zip Code                 8551 non-null   object        \n",
      " 16  Institution Name         8551 non-null   object        \n",
      " 17  Graduation Date          8551 non-null   object        \n",
      " 18  Current Student Status   8551 non-null   object        \n",
      " 19  Current/Intended Major   8551 non-null   object        \n",
      " 20  Entry created at         8551 non-null   datetime64[ns]\n",
      " 21  Status Description       8551 non-null   object        \n",
      " 22  Status Code              8551 non-null   float64       \n",
      " 23  Apply Date               8551 non-null   object        \n",
      " 24  Opportunity Start Date   4758 non-null   object        \n",
      " 25  Reward Awarded Date      29 non-null     object        \n",
      " 26  Completion Date          29 non-null     object        \n",
      " 27  Reward Amount            29 non-null     float64       \n",
      " 28  Badge Id                 29 non-null     object        \n",
      " 29  Badge Name               29 non-null     object        \n",
      " 30  Skill Points Earned      29 non-null     float64       \n",
      " 31  Skills Earned            29 non-null     object        \n",
      "dtypes: datetime64[ns](1), float64(3), object(28)\n",
      "memory usage: 2.2+ MB\n"
     ]
    }
   ],
   "source": [
    "# Dropping column 'Address Line 2'\n",
    "students = students.drop(columns='Address Line 2')\n",
    "students.info()"
   ]
  },
  {
   "cell_type": "code",
   "execution_count": 14,
   "id": "5f9333ce-b7ea-4471-a813-4795d90277ff",
   "metadata": {},
   "outputs": [
    {
     "name": "stdout",
     "output_type": "stream",
     "text": [
      "<class 'pandas.core.frame.DataFrame'>\n",
      "Int64Index: 8551 entries, 0 to 8557\n",
      "Data columns (total 33 columns):\n",
      " #   Column                   Non-Null Count  Dtype         \n",
      "---  ------                   --------------  -----         \n",
      " 0   Profile Id               8551 non-null   object        \n",
      " 1   Learner SignUp DateTime  8551 non-null   object        \n",
      " 2   Opportunity Id           8551 non-null   object        \n",
      " 3   Opportunity Name         8551 non-null   object        \n",
      " 4   Opportunity Category     8551 non-null   object        \n",
      " 5   Opportunity End Date     8551 non-null   object        \n",
      " 6   First Name               8551 non-null   object        \n",
      " 7   Last Name                8551 non-null   object        \n",
      " 8   Date of Birth            8551 non-null   object        \n",
      " 9   Gender                   8551 non-null   object        \n",
      " 10  Mobile Number            8551 non-null   object        \n",
      " 11  Address Line 1           8551 non-null   object        \n",
      " 12  Address Line 2           3553 non-null   object        \n",
      " 13  City                     8551 non-null   object        \n",
      " 14  State                    8551 non-null   object        \n",
      " 15  Country                  8551 non-null   object        \n",
      " 16  Zip Code                 8384 non-null   float64       \n",
      " 17  Institution Name         8551 non-null   object        \n",
      " 18  Graduation Date          8551 non-null   object        \n",
      " 19  Current Student Status   8551 non-null   object        \n",
      " 20  Current/Intended Major   8551 non-null   object        \n",
      " 21  Entry created at         8551 non-null   datetime64[ns]\n",
      " 22  Status Description       8551 non-null   object        \n",
      " 23  Status Code              8551 non-null   float64       \n",
      " 24  Apply Date               8551 non-null   object        \n",
      " 25  Opportunity Start Date   4758 non-null   object        \n",
      " 26  Reward Awarded Date      29 non-null     object        \n",
      " 27  Completion Date          29 non-null     object        \n",
      " 28  Reward Amount            29 non-null     float64       \n",
      " 29  Badge Id                 29 non-null     object        \n",
      " 30  Badge Name               29 non-null     object        \n",
      " 31  Skill Points Earned      29 non-null     float64       \n",
      " 32  Skills Earned            29 non-null     object        \n",
      "dtypes: datetime64[ns](1), float64(4), object(28)\n",
      "memory usage: 2.2+ MB\n"
     ]
    }
   ],
   "source": [
    "# Converting the column 'Zip Code' to numeric and dropping non-numeric rows on 'Zip Code' column\n",
    "students['Zip Code'] = pd.to_numeric(students['Zip Code'], errors='coerce')\n",
    "students.info()"
   ]
  },
  {
   "cell_type": "code",
   "execution_count": 16,
   "id": "30ba2451-8d1a-47ad-b399-00ac06fc0319",
   "metadata": {},
   "outputs": [],
   "source": [
    "students = students.dropna(subset='Zip Code')"
   ]
  },
  {
   "cell_type": "code",
   "execution_count": 18,
   "id": "9ba0d275-52dd-4dd1-ad83-fae94b08d176",
   "metadata": {},
   "outputs": [
    {
     "data": {
      "text/plain": [
       "Profile Id                 8384\n",
       "Learner SignUp DateTime    8384\n",
       "Opportunity Id             8384\n",
       "Opportunity Name           8384\n",
       "Opportunity Category       8384\n",
       "Opportunity End Date       8384\n",
       "First Name                 8384\n",
       "Last Name                  8384\n",
       "Date of Birth              8384\n",
       "Gender                     8384\n",
       "Mobile Number              8384\n",
       "Address Line 1             8384\n",
       "Address Line 2             3466\n",
       "City                       8384\n",
       "State                      8384\n",
       "Country                    8384\n",
       "Zip Code                   8384\n",
       "Institution Name           8384\n",
       "Graduation Date            8384\n",
       "Current Student Status     8384\n",
       "Current/Intended Major     8384\n",
       "Entry created at           8384\n",
       "Status Description         8384\n",
       "Status Code                8384\n",
       "Apply Date                 8384\n",
       "Opportunity Start Date     4644\n",
       "Reward Awarded Date          29\n",
       "Completion Date              29\n",
       "Reward Amount                29\n",
       "Badge Id                     29\n",
       "Badge Name                   29\n",
       "Skill Points Earned          29\n",
       "Skills Earned                29\n",
       "dtype: int64"
      ]
     },
     "execution_count": 18,
     "metadata": {},
     "output_type": "execute_result"
    }
   ],
   "source": [
    "students.count()"
   ]
  },
  {
   "cell_type": "code",
   "execution_count": 20,
   "id": "91b18ecb-73ed-45e4-a6b4-ce7b1158af21",
   "metadata": {},
   "outputs": [
    {
     "data": {
      "text/html": [
       "<div>\n",
       "<style scoped>\n",
       "    .dataframe tbody tr th:only-of-type {\n",
       "        vertical-align: middle;\n",
       "    }\n",
       "\n",
       "    .dataframe tbody tr th {\n",
       "        vertical-align: top;\n",
       "    }\n",
       "\n",
       "    .dataframe thead th {\n",
       "        text-align: right;\n",
       "    }\n",
       "</style>\n",
       "<table border=\"1\" class=\"dataframe\">\n",
       "  <thead>\n",
       "    <tr style=\"text-align: right;\">\n",
       "      <th></th>\n",
       "      <th>Profile Id</th>\n",
       "      <th>Learner SignUp DateTime</th>\n",
       "      <th>Opportunity Id</th>\n",
       "      <th>Opportunity Name</th>\n",
       "      <th>Opportunity Category</th>\n",
       "      <th>Opportunity End Date</th>\n",
       "      <th>First Name</th>\n",
       "      <th>Last Name</th>\n",
       "      <th>Date of Birth</th>\n",
       "      <th>Gender</th>\n",
       "      <th>...</th>\n",
       "      <th>Status Code</th>\n",
       "      <th>Apply Date</th>\n",
       "      <th>Opportunity Start Date</th>\n",
       "      <th>Reward Awarded Date</th>\n",
       "      <th>Completion Date</th>\n",
       "      <th>Reward Amount</th>\n",
       "      <th>Badge Id</th>\n",
       "      <th>Badge Name</th>\n",
       "      <th>Skill Points Earned</th>\n",
       "      <th>Skills Earned</th>\n",
       "    </tr>\n",
       "  </thead>\n",
       "  <tbody>\n",
       "    <tr>\n",
       "      <th>0</th>\n",
       "      <td>004b8a25-17d4-4e9a-a41b-b5336327e170</td>\n",
       "      <td>06/14/2023 12:30:35</td>\n",
       "      <td>00000000-0GN2-A0AY-7XK8-C5FZPP</td>\n",
       "      <td>Career Essentials: Getting Started with Your P...</td>\n",
       "      <td>Course</td>\n",
       "      <td>06/29/2024 18:52:39</td>\n",
       "      <td>Faria</td>\n",
       "      <td>Khan</td>\n",
       "      <td>2001-12-01 00:00:00</td>\n",
       "      <td>Female</td>\n",
       "      <td>...</td>\n",
       "      <td>1080.0</td>\n",
       "      <td>06/14/2023 12:36:09</td>\n",
       "      <td>2022-03-11 18:30:39</td>\n",
       "      <td>NaN</td>\n",
       "      <td>NaN</td>\n",
       "      <td>NaN</td>\n",
       "      <td>NaN</td>\n",
       "      <td>NaN</td>\n",
       "      <td>NaN</td>\n",
       "      <td>NaN</td>\n",
       "    </tr>\n",
       "    <tr>\n",
       "      <th>1</th>\n",
       "      <td>00628747-9775-4a85-a179-4d5007ccb8b7</td>\n",
       "      <td>2023-01-05 05:29:16</td>\n",
       "      <td>00000000-0GN2-A0AY-7XK8-C5FZPP</td>\n",
       "      <td>Career Essentials: Getting Started with Your P...</td>\n",
       "      <td>Course</td>\n",
       "      <td>06/29/2024 18:52:39</td>\n",
       "      <td>Poojitha</td>\n",
       "      <td>Bembadi</td>\n",
       "      <td>08/16/2000</td>\n",
       "      <td>Female</td>\n",
       "      <td>...</td>\n",
       "      <td>1080.0</td>\n",
       "      <td>2023-01-05 06:08:21</td>\n",
       "      <td>2022-03-11 18:30:39</td>\n",
       "      <td>NaN</td>\n",
       "      <td>NaN</td>\n",
       "      <td>NaN</td>\n",
       "      <td>NaN</td>\n",
       "      <td>NaN</td>\n",
       "      <td>NaN</td>\n",
       "      <td>NaN</td>\n",
       "    </tr>\n",
       "    <tr>\n",
       "      <th>3</th>\n",
       "      <td>00f5161c-ba85-472d-9b0a-3301aac78598</td>\n",
       "      <td>08/29/2023 05:20:03</td>\n",
       "      <td>00000000-0GN2-A0AY-7XK8-C5FZPP</td>\n",
       "      <td>Career Essentials: Getting Started with Your P...</td>\n",
       "      <td>Course</td>\n",
       "      <td>06/29/2024 18:52:39</td>\n",
       "      <td>Amrutha Varshini</td>\n",
       "      <td>Anagurthi</td>\n",
       "      <td>1999-01-11 00:00:00</td>\n",
       "      <td>Female</td>\n",
       "      <td>...</td>\n",
       "      <td>1070.0</td>\n",
       "      <td>2023-09-10 22:02:42</td>\n",
       "      <td>2022-03-11 18:30:39</td>\n",
       "      <td>NaN</td>\n",
       "      <td>NaN</td>\n",
       "      <td>NaN</td>\n",
       "      <td>NaN</td>\n",
       "      <td>NaN</td>\n",
       "      <td>NaN</td>\n",
       "      <td>NaN</td>\n",
       "    </tr>\n",
       "    <tr>\n",
       "      <th>4</th>\n",
       "      <td>01273a5e-fcc5-4b1a-a637-19aff497dac1</td>\n",
       "      <td>2023-06-01 15:26:36</td>\n",
       "      <td>00000000-0GN2-A0AY-7XK8-C5FZPP</td>\n",
       "      <td>Career Essentials: Getting Started with Your P...</td>\n",
       "      <td>Course</td>\n",
       "      <td>06/29/2024 18:52:39</td>\n",
       "      <td>Vinay Varshith</td>\n",
       "      <td>Pechetti</td>\n",
       "      <td>04/19/2000</td>\n",
       "      <td>Male</td>\n",
       "      <td>...</td>\n",
       "      <td>1080.0</td>\n",
       "      <td>2023-06-01 15:40:10</td>\n",
       "      <td>2022-03-11 18:30:39</td>\n",
       "      <td>NaN</td>\n",
       "      <td>NaN</td>\n",
       "      <td>NaN</td>\n",
       "      <td>NaN</td>\n",
       "      <td>NaN</td>\n",
       "      <td>NaN</td>\n",
       "      <td>NaN</td>\n",
       "    </tr>\n",
       "    <tr>\n",
       "      <th>5</th>\n",
       "      <td>01568c20-b177-4eda-824c-5b5e29d6eb42</td>\n",
       "      <td>2024-02-03 19:16:07</td>\n",
       "      <td>00000000-0GN2-A0AY-7XK8-C5FZPP</td>\n",
       "      <td>Career Essentials: Getting Started with Your P...</td>\n",
       "      <td>Course</td>\n",
       "      <td>06/29/2024 18:52:39</td>\n",
       "      <td>Mor</td>\n",
       "      <td>Samb</td>\n",
       "      <td>1996-12-05 00:00:00</td>\n",
       "      <td>Male</td>\n",
       "      <td>...</td>\n",
       "      <td>1040.0</td>\n",
       "      <td>2024-02-03 20:30:35</td>\n",
       "      <td>NaN</td>\n",
       "      <td>NaN</td>\n",
       "      <td>NaN</td>\n",
       "      <td>NaN</td>\n",
       "      <td>NaN</td>\n",
       "      <td>NaN</td>\n",
       "      <td>NaN</td>\n",
       "      <td>NaN</td>\n",
       "    </tr>\n",
       "  </tbody>\n",
       "</table>\n",
       "<p>5 rows × 33 columns</p>\n",
       "</div>"
      ],
      "text/plain": [
       "                             Profile Id Learner SignUp DateTime  \\\n",
       "0  004b8a25-17d4-4e9a-a41b-b5336327e170     06/14/2023 12:30:35   \n",
       "1  00628747-9775-4a85-a179-4d5007ccb8b7     2023-01-05 05:29:16   \n",
       "3  00f5161c-ba85-472d-9b0a-3301aac78598     08/29/2023 05:20:03   \n",
       "4  01273a5e-fcc5-4b1a-a637-19aff497dac1     2023-06-01 15:26:36   \n",
       "5  01568c20-b177-4eda-824c-5b5e29d6eb42     2024-02-03 19:16:07   \n",
       "\n",
       "                   Opportunity Id  \\\n",
       "0  00000000-0GN2-A0AY-7XK8-C5FZPP   \n",
       "1  00000000-0GN2-A0AY-7XK8-C5FZPP   \n",
       "3  00000000-0GN2-A0AY-7XK8-C5FZPP   \n",
       "4  00000000-0GN2-A0AY-7XK8-C5FZPP   \n",
       "5  00000000-0GN2-A0AY-7XK8-C5FZPP   \n",
       "\n",
       "                                    Opportunity Name Opportunity Category  \\\n",
       "0  Career Essentials: Getting Started with Your P...               Course   \n",
       "1  Career Essentials: Getting Started with Your P...               Course   \n",
       "3  Career Essentials: Getting Started with Your P...               Course   \n",
       "4  Career Essentials: Getting Started with Your P...               Course   \n",
       "5  Career Essentials: Getting Started with Your P...               Course   \n",
       "\n",
       "  Opportunity End Date        First Name  Last Name        Date of Birth  \\\n",
       "0  06/29/2024 18:52:39             Faria       Khan  2001-12-01 00:00:00   \n",
       "1  06/29/2024 18:52:39          Poojitha    Bembadi           08/16/2000   \n",
       "3  06/29/2024 18:52:39  Amrutha Varshini  Anagurthi  1999-01-11 00:00:00   \n",
       "4  06/29/2024 18:52:39    Vinay Varshith   Pechetti           04/19/2000   \n",
       "5  06/29/2024 18:52:39               Mor       Samb  1996-12-05 00:00:00   \n",
       "\n",
       "   Gender  ... Status Code           Apply Date Opportunity Start Date  \\\n",
       "0  Female  ...      1080.0  06/14/2023 12:36:09    2022-03-11 18:30:39   \n",
       "1  Female  ...      1080.0  2023-01-05 06:08:21    2022-03-11 18:30:39   \n",
       "3  Female  ...      1070.0  2023-09-10 22:02:42    2022-03-11 18:30:39   \n",
       "4    Male  ...      1080.0  2023-06-01 15:40:10    2022-03-11 18:30:39   \n",
       "5    Male  ...      1040.0  2024-02-03 20:30:35                    NaN   \n",
       "\n",
       "  Reward Awarded Date Completion Date Reward Amount  Badge Id Badge Name  \\\n",
       "0                 NaN             NaN           NaN       NaN        NaN   \n",
       "1                 NaN             NaN           NaN       NaN        NaN   \n",
       "3                 NaN             NaN           NaN       NaN        NaN   \n",
       "4                 NaN             NaN           NaN       NaN        NaN   \n",
       "5                 NaN             NaN           NaN       NaN        NaN   \n",
       "\n",
       "  Skill Points Earned Skills Earned  \n",
       "0                 NaN           NaN  \n",
       "1                 NaN           NaN  \n",
       "3                 NaN           NaN  \n",
       "4                 NaN           NaN  \n",
       "5                 NaN           NaN  \n",
       "\n",
       "[5 rows x 33 columns]"
      ]
     },
     "execution_count": 20,
     "metadata": {},
     "output_type": "execute_result"
    }
   ],
   "source": [
    "students.head()"
   ]
  },
  {
   "cell_type": "code",
   "execution_count": 22,
   "id": "c232201d-bd8f-4a64-b1ed-173457d99658",
   "metadata": {},
   "outputs": [
    {
     "data": {
      "text/plain": [
       "0       923.0\n",
       "1    501106.0\n",
       "3     63108.0\n",
       "4     63108.0\n",
       "5    360003.0\n",
       "Name: Zip Code, dtype: float64"
      ]
     },
     "execution_count": 22,
     "metadata": {},
     "output_type": "execute_result"
    }
   ],
   "source": [
    "students['Zip Code'].head()"
   ]
  },
  {
   "cell_type": "code",
   "execution_count": 24,
   "id": "047105f0-2236-4489-83e8-25b1a5dd45b7",
   "metadata": {},
   "outputs": [
    {
     "name": "stderr",
     "output_type": "stream",
     "text": [
      "C:\\Users\\user\\anaconda3\\lib\\site-packages\\pandas\\core\\dtypes\\cast.py:1196: RuntimeWarning: invalid value encountered in cast\n",
      "  return values.astype(dtype, copy=copy)\n"
     ]
    }
   ],
   "source": [
    "# Converting Zip Code to int\n",
    "students['Zip Code'] = students['Zip Code'].astype(int)"
   ]
  },
  {
   "cell_type": "code",
   "execution_count": 26,
   "id": "74c5d1ea-27cc-43bc-a0bb-9845ec851fd4",
   "metadata": {},
   "outputs": [
    {
     "data": {
      "text/plain": [
       "dtype('int32')"
      ]
     },
     "execution_count": 26,
     "metadata": {},
     "output_type": "execute_result"
    }
   ],
   "source": [
    "# Verifying 'Zip Code' datatype\n",
    "students['Zip Code'].dtype"
   ]
  },
  {
   "cell_type": "code",
   "execution_count": 28,
   "id": "d42eee0e-8f8d-4404-87d8-ad64dc3d79e7",
   "metadata": {},
   "outputs": [],
   "source": [
    "# Removing columns with very few rows of data and oppurtunity id\n",
    "students = students.drop(columns=['Reward Awarded Date', 'Completion Date', 'Reward Amount', 'Badge Id', 'Badge Name', 'Skill Points Earned', 'Skills Earned', 'Opportunity Id'])"
   ]
  },
  {
   "cell_type": "code",
   "execution_count": 30,
   "id": "f1c93412-14eb-4797-8a29-bac54ae03221",
   "metadata": {},
   "outputs": [
    {
     "name": "stdout",
     "output_type": "stream",
     "text": [
      "<class 'pandas.core.frame.DataFrame'>\n",
      "Int64Index: 8384 entries, 0 to 8557\n",
      "Data columns (total 25 columns):\n",
      " #   Column                   Non-Null Count  Dtype         \n",
      "---  ------                   --------------  -----         \n",
      " 0   Profile Id               8384 non-null   object        \n",
      " 1   Learner SignUp DateTime  8384 non-null   object        \n",
      " 2   Opportunity Name         8384 non-null   object        \n",
      " 3   Opportunity Category     8384 non-null   object        \n",
      " 4   Opportunity End Date     8384 non-null   object        \n",
      " 5   First Name               8384 non-null   object        \n",
      " 6   Last Name                8384 non-null   object        \n",
      " 7   Date of Birth            8384 non-null   object        \n",
      " 8   Gender                   8384 non-null   object        \n",
      " 9   Mobile Number            8384 non-null   object        \n",
      " 10  Address Line 1           8384 non-null   object        \n",
      " 11  Address Line 2           3466 non-null   object        \n",
      " 12  City                     8384 non-null   object        \n",
      " 13  State                    8384 non-null   object        \n",
      " 14  Country                  8384 non-null   object        \n",
      " 15  Zip Code                 8384 non-null   int32         \n",
      " 16  Institution Name         8384 non-null   object        \n",
      " 17  Graduation Date          8384 non-null   object        \n",
      " 18  Current Student Status   8384 non-null   object        \n",
      " 19  Current/Intended Major   8384 non-null   object        \n",
      " 20  Entry created at         8384 non-null   datetime64[ns]\n",
      " 21  Status Description       8384 non-null   object        \n",
      " 22  Status Code              8384 non-null   float64       \n",
      " 23  Apply Date               8384 non-null   object        \n",
      " 24  Opportunity Start Date   4644 non-null   object        \n",
      "dtypes: datetime64[ns](1), float64(1), int32(1), object(22)\n",
      "memory usage: 1.6+ MB\n"
     ]
    }
   ],
   "source": [
    "students.info()"
   ]
  },
  {
   "cell_type": "code",
   "execution_count": 32,
   "id": "578f9495-6ca0-4dc9-a209-d5d1fbdcd65d",
   "metadata": {},
   "outputs": [
    {
     "data": {
      "text/html": [
       "<div>\n",
       "<style scoped>\n",
       "    .dataframe tbody tr th:only-of-type {\n",
       "        vertical-align: middle;\n",
       "    }\n",
       "\n",
       "    .dataframe tbody tr th {\n",
       "        vertical-align: top;\n",
       "    }\n",
       "\n",
       "    .dataframe thead th {\n",
       "        text-align: right;\n",
       "    }\n",
       "</style>\n",
       "<table border=\"1\" class=\"dataframe\">\n",
       "  <thead>\n",
       "    <tr style=\"text-align: right;\">\n",
       "      <th></th>\n",
       "      <th>Profile Id</th>\n",
       "      <th>Learner SignUp DateTime</th>\n",
       "      <th>Opportunity Name</th>\n",
       "      <th>Opportunity Category</th>\n",
       "      <th>Opportunity End Date</th>\n",
       "      <th>First Name</th>\n",
       "      <th>Last Name</th>\n",
       "      <th>Date of Birth</th>\n",
       "      <th>Gender</th>\n",
       "      <th>Mobile Number</th>\n",
       "      <th>...</th>\n",
       "      <th>Zip Code</th>\n",
       "      <th>Institution Name</th>\n",
       "      <th>Graduation Date</th>\n",
       "      <th>Current Student Status</th>\n",
       "      <th>Current/Intended Major</th>\n",
       "      <th>Entry created at</th>\n",
       "      <th>Status Description</th>\n",
       "      <th>Status Code</th>\n",
       "      <th>Apply Date</th>\n",
       "      <th>Opportunity Start Date</th>\n",
       "    </tr>\n",
       "  </thead>\n",
       "  <tbody>\n",
       "    <tr>\n",
       "      <th>0</th>\n",
       "      <td>004b8a25-17d4-4e9a-a41b-b5336327e170</td>\n",
       "      <td>06/14/2023 12:30:35</td>\n",
       "      <td>Career Essentials: Getting Started with Your P...</td>\n",
       "      <td>Course</td>\n",
       "      <td>06/29/2024 18:52:39</td>\n",
       "      <td>Faria</td>\n",
       "      <td>Khan</td>\n",
       "      <td>2001-12-01 00:00:00</td>\n",
       "      <td>Female</td>\n",
       "      <td>+923441950694'</td>\n",
       "      <td>...</td>\n",
       "      <td>923</td>\n",
       "      <td>Nwihs</td>\n",
       "      <td>2023-11-01 00:00:00</td>\n",
       "      <td>Undergraduate Student</td>\n",
       "      <td>Radiology</td>\n",
       "      <td>2024-11-03 12:01:41</td>\n",
       "      <td>Started</td>\n",
       "      <td>1080.0</td>\n",
       "      <td>06/14/2023 12:36:09</td>\n",
       "      <td>2022-03-11 18:30:39</td>\n",
       "    </tr>\n",
       "    <tr>\n",
       "      <th>1</th>\n",
       "      <td>00628747-9775-4a85-a179-4d5007ccb8b7</td>\n",
       "      <td>2023-01-05 05:29:16</td>\n",
       "      <td>Career Essentials: Getting Started with Your P...</td>\n",
       "      <td>Course</td>\n",
       "      <td>06/29/2024 18:52:39</td>\n",
       "      <td>Poojitha</td>\n",
       "      <td>Bembadi</td>\n",
       "      <td>08/16/2000</td>\n",
       "      <td>Female</td>\n",
       "      <td>+919381442895'</td>\n",
       "      <td>...</td>\n",
       "      <td>501106</td>\n",
       "      <td>SAINT LOUIS</td>\n",
       "      <td>2025-05-01 00:00:00</td>\n",
       "      <td>Graduate Program Student</td>\n",
       "      <td>Information Systems</td>\n",
       "      <td>2024-11-03 12:01:41</td>\n",
       "      <td>Started</td>\n",
       "      <td>1080.0</td>\n",
       "      <td>2023-01-05 06:08:21</td>\n",
       "      <td>2022-03-11 18:30:39</td>\n",
       "    </tr>\n",
       "    <tr>\n",
       "      <th>3</th>\n",
       "      <td>00f5161c-ba85-472d-9b0a-3301aac78598</td>\n",
       "      <td>08/29/2023 05:20:03</td>\n",
       "      <td>Career Essentials: Getting Started with Your P...</td>\n",
       "      <td>Course</td>\n",
       "      <td>06/29/2024 18:52:39</td>\n",
       "      <td>Amrutha Varshini</td>\n",
       "      <td>Anagurthi</td>\n",
       "      <td>1999-01-11 00:00:00</td>\n",
       "      <td>Female</td>\n",
       "      <td>+13143350542'</td>\n",
       "      <td>...</td>\n",
       "      <td>63108</td>\n",
       "      <td>Saint Louis University</td>\n",
       "      <td>2025-05-01 00:00:00</td>\n",
       "      <td>Graduate Program Student</td>\n",
       "      <td>Information Systems</td>\n",
       "      <td>2024-11-03 12:01:41</td>\n",
       "      <td>Team Allocated</td>\n",
       "      <td>1070.0</td>\n",
       "      <td>2023-09-10 22:02:42</td>\n",
       "      <td>2022-03-11 18:30:39</td>\n",
       "    </tr>\n",
       "    <tr>\n",
       "      <th>4</th>\n",
       "      <td>01273a5e-fcc5-4b1a-a637-19aff497dac1</td>\n",
       "      <td>2023-06-01 15:26:36</td>\n",
       "      <td>Career Essentials: Getting Started with Your P...</td>\n",
       "      <td>Course</td>\n",
       "      <td>06/29/2024 18:52:39</td>\n",
       "      <td>Vinay Varshith</td>\n",
       "      <td>Pechetti</td>\n",
       "      <td>04/19/2000</td>\n",
       "      <td>Male</td>\n",
       "      <td>+917032055646'</td>\n",
       "      <td>...</td>\n",
       "      <td>63108</td>\n",
       "      <td>Saint Louis University</td>\n",
       "      <td>2024-12-01 00:00:00</td>\n",
       "      <td>Graduate Program Student</td>\n",
       "      <td>Computer Science</td>\n",
       "      <td>2024-11-03 12:01:41</td>\n",
       "      <td>Started</td>\n",
       "      <td>1080.0</td>\n",
       "      <td>2023-06-01 15:40:10</td>\n",
       "      <td>2022-03-11 18:30:39</td>\n",
       "    </tr>\n",
       "    <tr>\n",
       "      <th>5</th>\n",
       "      <td>01568c20-b177-4eda-824c-5b5e29d6eb42</td>\n",
       "      <td>2024-02-03 19:16:07</td>\n",
       "      <td>Career Essentials: Getting Started with Your P...</td>\n",
       "      <td>Course</td>\n",
       "      <td>06/29/2024 18:52:39</td>\n",
       "      <td>Mor</td>\n",
       "      <td>Samb</td>\n",
       "      <td>1996-12-05 00:00:00</td>\n",
       "      <td>Male</td>\n",
       "      <td>+918155821077'</td>\n",
       "      <td>...</td>\n",
       "      <td>360003</td>\n",
       "      <td>Saint Louis University</td>\n",
       "      <td>2028-05-01 00:00:00</td>\n",
       "      <td>Undergraduate Student</td>\n",
       "      <td>Mechanical Engineering</td>\n",
       "      <td>2024-11-03 12:01:41</td>\n",
       "      <td>Waitlisted</td>\n",
       "      <td>1040.0</td>\n",
       "      <td>2024-02-03 20:30:35</td>\n",
       "      <td>NaN</td>\n",
       "    </tr>\n",
       "  </tbody>\n",
       "</table>\n",
       "<p>5 rows × 25 columns</p>\n",
       "</div>"
      ],
      "text/plain": [
       "                             Profile Id Learner SignUp DateTime  \\\n",
       "0  004b8a25-17d4-4e9a-a41b-b5336327e170     06/14/2023 12:30:35   \n",
       "1  00628747-9775-4a85-a179-4d5007ccb8b7     2023-01-05 05:29:16   \n",
       "3  00f5161c-ba85-472d-9b0a-3301aac78598     08/29/2023 05:20:03   \n",
       "4  01273a5e-fcc5-4b1a-a637-19aff497dac1     2023-06-01 15:26:36   \n",
       "5  01568c20-b177-4eda-824c-5b5e29d6eb42     2024-02-03 19:16:07   \n",
       "\n",
       "                                    Opportunity Name Opportunity Category  \\\n",
       "0  Career Essentials: Getting Started with Your P...               Course   \n",
       "1  Career Essentials: Getting Started with Your P...               Course   \n",
       "3  Career Essentials: Getting Started with Your P...               Course   \n",
       "4  Career Essentials: Getting Started with Your P...               Course   \n",
       "5  Career Essentials: Getting Started with Your P...               Course   \n",
       "\n",
       "  Opportunity End Date        First Name  Last Name        Date of Birth  \\\n",
       "0  06/29/2024 18:52:39             Faria       Khan  2001-12-01 00:00:00   \n",
       "1  06/29/2024 18:52:39          Poojitha    Bembadi           08/16/2000   \n",
       "3  06/29/2024 18:52:39  Amrutha Varshini  Anagurthi  1999-01-11 00:00:00   \n",
       "4  06/29/2024 18:52:39    Vinay Varshith   Pechetti           04/19/2000   \n",
       "5  06/29/2024 18:52:39               Mor       Samb  1996-12-05 00:00:00   \n",
       "\n",
       "   Gender   Mobile Number  ... Zip Code        Institution Name  \\\n",
       "0  Female  +923441950694'  ...      923                   Nwihs   \n",
       "1  Female  +919381442895'  ...   501106             SAINT LOUIS   \n",
       "3  Female   +13143350542'  ...    63108  Saint Louis University   \n",
       "4    Male  +917032055646'  ...    63108  Saint Louis University   \n",
       "5    Male  +918155821077'  ...   360003  Saint Louis University   \n",
       "\n",
       "       Graduation Date    Current Student Status  Current/Intended Major  \\\n",
       "0  2023-11-01 00:00:00     Undergraduate Student               Radiology   \n",
       "1  2025-05-01 00:00:00  Graduate Program Student     Information Systems   \n",
       "3  2025-05-01 00:00:00  Graduate Program Student     Information Systems   \n",
       "4  2024-12-01 00:00:00  Graduate Program Student        Computer Science   \n",
       "5  2028-05-01 00:00:00     Undergraduate Student  Mechanical Engineering   \n",
       "\n",
       "     Entry created at Status Description Status Code           Apply Date  \\\n",
       "0 2024-11-03 12:01:41            Started      1080.0  06/14/2023 12:36:09   \n",
       "1 2024-11-03 12:01:41            Started      1080.0  2023-01-05 06:08:21   \n",
       "3 2024-11-03 12:01:41     Team Allocated      1070.0  2023-09-10 22:02:42   \n",
       "4 2024-11-03 12:01:41            Started      1080.0  2023-06-01 15:40:10   \n",
       "5 2024-11-03 12:01:41         Waitlisted      1040.0  2024-02-03 20:30:35   \n",
       "\n",
       "  Opportunity Start Date  \n",
       "0    2022-03-11 18:30:39  \n",
       "1    2022-03-11 18:30:39  \n",
       "3    2022-03-11 18:30:39  \n",
       "4    2022-03-11 18:30:39  \n",
       "5                    NaN  \n",
       "\n",
       "[5 rows x 25 columns]"
      ]
     },
     "execution_count": 32,
     "metadata": {},
     "output_type": "execute_result"
    }
   ],
   "source": [
    "students.head()"
   ]
  },
  {
   "cell_type": "markdown",
   "id": "555e49fc-2767-4387-9787-8944b787e57b",
   "metadata": {},
   "source": [
    "**Tasks done by Abdullah Imran start from here**"
   ]
  },
  {
   "cell_type": "code",
   "execution_count": 34,
   "id": "4fe972f4-76b2-4d37-a12b-f121b36011fc",
   "metadata": {},
   "outputs": [
    {
     "name": "stdout",
     "output_type": "stream",
     "text": [
      "0   2001-12-01\n",
      "1   2000-08-16\n",
      "3   1999-01-11\n",
      "4   2000-04-19\n",
      "5   1996-12-05\n",
      "Name: Date of Birth, dtype: datetime64[ns]\n",
      "Profile Id                         object\n",
      "Learner SignUp DateTime            object\n",
      "Opportunity Name                   object\n",
      "Opportunity Category               object\n",
      "Opportunity End Date               object\n",
      "First Name                         object\n",
      "Last Name                          object\n",
      "Date of Birth              datetime64[ns]\n",
      "Gender                             object\n",
      "Mobile Number                      object\n",
      "Address Line 1                     object\n",
      "Address Line 2                     object\n",
      "City                               object\n",
      "State                              object\n",
      "Country                            object\n",
      "Zip Code                            int32\n",
      "Institution Name                   object\n",
      "Graduation Date                    object\n",
      "Current Student Status             object\n",
      "Current/Intended Major             object\n",
      "Entry created at           datetime64[ns]\n",
      "Status Description                 object\n",
      "Status Code                       float64\n",
      "Apply Date                         object\n",
      "Opportunity Start Date             object\n",
      "dtype: object\n"
     ]
    }
   ],
   "source": [
    "# Convert 'Date of Birth' to datetime64[ns] while keeping only the date\n",
    "students['Date of Birth'] = pd.to_datetime(students['Date of Birth']).dt.normalize()\n",
    "\n",
    "print(students['Date of Birth'].head())\n",
    "print(students.dtypes)"
   ]
  },
  {
   "cell_type": "code",
   "execution_count": 36,
   "id": "9e342dd9-f74e-4bf2-a52e-c23ca98a2daf",
   "metadata": {},
   "outputs": [
    {
     "name": "stdout",
     "output_type": "stream",
     "text": [
      "0   2023-11-01\n",
      "1   2025-05-01\n",
      "3   2025-05-01\n",
      "4   2024-12-01\n",
      "5   2028-05-01\n",
      "Name: Graduation Date, dtype: datetime64[ns]\n",
      "                                Profile Id Learner SignUp DateTime  \\\n",
      "1760  8fd8b9b2-1c52-4781-a831-c0c30c1384c4     2024-07-01 22:34:14   \n",
      "2994  8fd8b9b2-1c52-4781-a831-c0c30c1384c4     2024-07-01 22:34:14   \n",
      "3675  8fd8b9b2-1c52-4781-a831-c0c30c1384c4     2024-07-01 22:34:14   \n",
      "4579  8fd8b9b2-1c52-4781-a831-c0c30c1384c4     2024-07-01 22:34:14   \n",
      "\n",
      "                   Opportunity Name Opportunity Category Opportunity End Date  \\\n",
      "1760              Digital Marketing           Internship  2024-11-03 18:00:00   \n",
      "2994  Innovation & Entrepreneurship           Internship  2024-11-03 18:00:00   \n",
      "3675             Project Management           Internship  2024-11-03 18:00:00   \n",
      "4579             Data Visualization           Internship  2024-11-03 18:00:00   \n",
      "\n",
      "     First Name Last Name Date of Birth Gender   Mobile Number  ... Zip Code  \\\n",
      "1760     Pranay     Reddy    1998-05-16   Male  +919481775377'  ...    63013   \n",
      "2994     Pranay     Reddy    1998-05-16   Male  +919481775377'  ...    63013   \n",
      "3675     Pranay     Reddy    1998-05-16   Male  +919481775377'  ...    63013   \n",
      "4579     Pranay     Reddy    1998-05-16   Male  +919481775377'  ...    63013   \n",
      "\n",
      "            Institution Name Graduation Date    Current Student Status  \\\n",
      "1760  Saint Louis University             NaT  Graduate Program Student   \n",
      "2994  Saint Louis University             NaT  Graduate Program Student   \n",
      "3675  Saint Louis University             NaT  Graduate Program Student   \n",
      "4579  Saint Louis University             NaT  Graduate Program Student   \n",
      "\n",
      "     Current/Intended Major    Entry created at Status Description  \\\n",
      "1760    Information Systems 2024-11-03 12:02:00           Rejected   \n",
      "2994    Information Systems 2024-11-03 12:02:13        Dropped Out   \n",
      "3675    Information Systems 2024-11-03 12:02:20           Rejected   \n",
      "4579    Information Systems 2024-11-03 12:02:31        Dropped Out   \n",
      "\n",
      "     Status Code           Apply Date Opportunity Start Date  \n",
      "1760      1030.0  2024-07-01 23:52:09                    NaN  \n",
      "2994      1050.0  2024-07-01 23:56:24    01/22/2024 24:00:00  \n",
      "3675      1030.0  2024-07-01 23:37:52                    NaN  \n",
      "4579      1050.0  2024-07-01 23:50:04    01/22/2024 24:00:00  \n",
      "\n",
      "[4 rows x 25 columns]\n"
     ]
    }
   ],
   "source": [
    "# Convert 'Graduation Date' to datetime while handling invalid dates\n",
    "students['Graduation Date'] = pd.to_datetime(students['Graduation Date'], errors='coerce').dt.normalize()\n",
    "\n",
    "# Check the result\n",
    "print(students['Graduation Date'].head())\n",
    "\n",
    "# Print rows where 'Graduation Date' could not be converted (NaT)\n",
    "print(students[students['Graduation Date'].isna()])\n"
   ]
  },
  {
   "cell_type": "code",
   "execution_count": 38,
   "id": "f1bfe06c-b0db-4798-a70e-a2ddcac30cad",
   "metadata": {},
   "outputs": [
    {
     "name": "stdout",
     "output_type": "stream",
     "text": [
      "0\n"
     ]
    }
   ],
   "source": [
    "# Drop rows where 'Graduation Date' is NaN\n",
    "students = students.dropna(subset=['Graduation Date'])\n",
    "\n",
    "# Verify the result\n",
    "print(students['Graduation Date'].isna().sum()) # Nice stuff"
   ]
  },
  {
   "cell_type": "code",
   "execution_count": 40,
   "id": "8758d342-daa6-4b13-9122-3ed410be8adb",
   "metadata": {},
   "outputs": [
    {
     "name": "stdout",
     "output_type": "stream",
     "text": [
      "0   2023-11-01\n",
      "1   2025-05-01\n",
      "3   2025-05-01\n",
      "4   2024-12-01\n",
      "5   2028-05-01\n",
      "Name: Graduation Date, dtype: datetime64[ns]\n"
     ]
    }
   ],
   "source": [
    "print(students['Graduation Date'].head())"
   ]
  },
  {
   "cell_type": "code",
   "execution_count": 42,
   "id": "ca4e9820-d495-4e3a-987e-3eee43d4e723",
   "metadata": {},
   "outputs": [
    {
     "name": "stdout",
     "output_type": "stream",
     "text": [
      "Opportunity End Date      datetime64[ns]\n",
      "Apply Date                datetime64[ns]\n",
      "Opportunity Start Date    datetime64[ns]\n",
      "dtype: object\n"
     ]
    }
   ],
   "source": [
    "# Convert the following columns to datetime64[ns] format\n",
    "date_columns = ['Opportunity End Date', 'Apply Date', 'Opportunity Start Date']\n",
    "\n",
    "for column in date_columns:\n",
    "    students[column] = pd.to_datetime(students[column], errors='coerce')\n",
    "\n",
    "# Verify the conversions\n",
    "print(students[date_columns].dtypes)"
   ]
  },
  {
   "cell_type": "code",
   "execution_count": 44,
   "id": "885af33a-e458-438a-9ca5-43da58ab9cd0",
   "metadata": {},
   "outputs": [
    {
     "name": "stdout",
     "output_type": "stream",
     "text": [
      "Opportunity End Date NaT count: 0\n",
      "Apply Date NaT count: 197\n",
      "Opportunity Start Date NaT count: 4370\n"
     ]
    }
   ],
   "source": [
    "# Check for any NaT values in the date columns\n",
    "for column in date_columns:\n",
    "    print(f\"{column} NaT count:\", students[column].isna().sum())"
   ]
  },
  {
   "cell_type": "markdown",
   "id": "bebbbc42-b062-4c0d-a223-148606312db1",
   "metadata": {},
   "source": [
    "Above tells us that there are a lot of people who have not started the Oppurtunity at all, so we might need to factor this in while using this data. Since there are way too many people that have not joined, we can't just simply remove the data of those people, and I guess can keep this data for future use."
   ]
  },
  {
   "cell_type": "code",
   "execution_count": 46,
   "id": "db1b52d3-0603-48e2-8954-d9c3dbcc431a",
   "metadata": {},
   "outputs": [
    {
     "data": {
      "text/plain": [
       "Profile Id                         object\n",
       "Learner SignUp DateTime            object\n",
       "Opportunity Name                   object\n",
       "Opportunity Category               object\n",
       "Opportunity End Date       datetime64[ns]\n",
       "First Name                         object\n",
       "Last Name                          object\n",
       "Date of Birth              datetime64[ns]\n",
       "Gender                             object\n",
       "Mobile Number                      object\n",
       "Address Line 1                     object\n",
       "Address Line 2                     object\n",
       "City                               object\n",
       "State                              object\n",
       "Country                            object\n",
       "Zip Code                            int32\n",
       "Institution Name                   object\n",
       "Graduation Date            datetime64[ns]\n",
       "Current Student Status             object\n",
       "Current/Intended Major             object\n",
       "Entry created at           datetime64[ns]\n",
       "Status Description                 object\n",
       "Status Code                       float64\n",
       "Apply Date                 datetime64[ns]\n",
       "Opportunity Start Date     datetime64[ns]\n",
       "dtype: object"
      ]
     },
     "execution_count": 46,
     "metadata": {},
     "output_type": "execute_result"
    }
   ],
   "source": [
    "students.dtypes"
   ]
  },
  {
   "cell_type": "code",
   "execution_count": 80,
   "id": "7ed27e83-1330-4d2a-b9db-ba8c01bc1300",
   "metadata": {},
   "outputs": [
    {
     "data": {
      "text/plain": [
       "0   2022-03-11 18:30:39\n",
       "1   2022-03-11 18:30:39\n",
       "3   2022-03-11 18:30:39\n",
       "4   2022-03-11 18:30:39\n",
       "5                   NaT\n",
       "Name: Opportunity Start Date, dtype: datetime64[ns]"
      ]
     },
     "execution_count": 80,
     "metadata": {},
     "output_type": "execute_result"
    }
   ],
   "source": [
    "students['Opportunity Start Date'].head()"
   ]
  },
  {
   "cell_type": "code",
   "execution_count": 48,
   "id": "d223ae74-1791-4886-85cc-c1ecd4673d1a",
   "metadata": {},
   "outputs": [],
   "source": [
    "# Drop rows where Zip Code is not a valid number (including zeros)\n",
    "students = students[students['Zip Code'].apply(lambda x: str(x).isdigit() and int(x) > 0)]"
   ]
  },
  {
   "cell_type": "code",
   "execution_count": 50,
   "id": "d4d875be-82d6-4b6a-922a-6e7880b1c60e",
   "metadata": {},
   "outputs": [],
   "source": [
    "# Drop all columns that are completely empty (have no values)\n",
    "students.dropna(axis=1, how='all', inplace=True)"
   ]
  },
  {
   "cell_type": "code",
   "execution_count": 52,
   "id": "ca44e6c7-635c-4e2b-a46e-d3336837f01e",
   "metadata": {},
   "outputs": [
    {
     "data": {
      "text/html": [
       "<div>\n",
       "<style scoped>\n",
       "    .dataframe tbody tr th:only-of-type {\n",
       "        vertical-align: middle;\n",
       "    }\n",
       "\n",
       "    .dataframe tbody tr th {\n",
       "        vertical-align: top;\n",
       "    }\n",
       "\n",
       "    .dataframe thead th {\n",
       "        text-align: right;\n",
       "    }\n",
       "</style>\n",
       "<table border=\"1\" class=\"dataframe\">\n",
       "  <thead>\n",
       "    <tr style=\"text-align: right;\">\n",
       "      <th></th>\n",
       "      <th>Profile Id</th>\n",
       "      <th>Learner SignUp DateTime</th>\n",
       "      <th>Opportunity Name</th>\n",
       "      <th>Opportunity Category</th>\n",
       "      <th>Opportunity End Date</th>\n",
       "      <th>First Name</th>\n",
       "      <th>Last Name</th>\n",
       "      <th>Date of Birth</th>\n",
       "      <th>Gender</th>\n",
       "      <th>Mobile Number</th>\n",
       "      <th>...</th>\n",
       "      <th>Zip Code</th>\n",
       "      <th>Institution Name</th>\n",
       "      <th>Graduation Date</th>\n",
       "      <th>Current Student Status</th>\n",
       "      <th>Current/Intended Major</th>\n",
       "      <th>Entry created at</th>\n",
       "      <th>Status Description</th>\n",
       "      <th>Status Code</th>\n",
       "      <th>Apply Date</th>\n",
       "      <th>Opportunity Start Date</th>\n",
       "    </tr>\n",
       "  </thead>\n",
       "  <tbody>\n",
       "    <tr>\n",
       "      <th>0</th>\n",
       "      <td>004b8a25-17d4-4e9a-a41b-b5336327e170</td>\n",
       "      <td>06/14/2023 12:30:35</td>\n",
       "      <td>Career Essentials: Getting Started with Your P...</td>\n",
       "      <td>Course</td>\n",
       "      <td>2024-06-29 18:52:39</td>\n",
       "      <td>Faria</td>\n",
       "      <td>Khan</td>\n",
       "      <td>2001-12-01</td>\n",
       "      <td>Female</td>\n",
       "      <td>+923441950694'</td>\n",
       "      <td>...</td>\n",
       "      <td>923</td>\n",
       "      <td>Nwihs</td>\n",
       "      <td>2023-11-01</td>\n",
       "      <td>Undergraduate Student</td>\n",
       "      <td>Radiology</td>\n",
       "      <td>2024-11-03 12:01:41</td>\n",
       "      <td>Started</td>\n",
       "      <td>1080.0</td>\n",
       "      <td>2023-06-14 12:36:09</td>\n",
       "      <td>2022-03-11 18:30:39</td>\n",
       "    </tr>\n",
       "    <tr>\n",
       "      <th>1</th>\n",
       "      <td>00628747-9775-4a85-a179-4d5007ccb8b7</td>\n",
       "      <td>2023-01-05 05:29:16</td>\n",
       "      <td>Career Essentials: Getting Started with Your P...</td>\n",
       "      <td>Course</td>\n",
       "      <td>2024-06-29 18:52:39</td>\n",
       "      <td>Poojitha</td>\n",
       "      <td>Bembadi</td>\n",
       "      <td>2000-08-16</td>\n",
       "      <td>Female</td>\n",
       "      <td>+919381442895'</td>\n",
       "      <td>...</td>\n",
       "      <td>501106</td>\n",
       "      <td>SAINT LOUIS</td>\n",
       "      <td>2025-05-01</td>\n",
       "      <td>Graduate Program Student</td>\n",
       "      <td>Information Systems</td>\n",
       "      <td>2024-11-03 12:01:41</td>\n",
       "      <td>Started</td>\n",
       "      <td>1080.0</td>\n",
       "      <td>2023-01-05 06:08:21</td>\n",
       "      <td>2022-03-11 18:30:39</td>\n",
       "    </tr>\n",
       "    <tr>\n",
       "      <th>3</th>\n",
       "      <td>00f5161c-ba85-472d-9b0a-3301aac78598</td>\n",
       "      <td>08/29/2023 05:20:03</td>\n",
       "      <td>Career Essentials: Getting Started with Your P...</td>\n",
       "      <td>Course</td>\n",
       "      <td>2024-06-29 18:52:39</td>\n",
       "      <td>Amrutha Varshini</td>\n",
       "      <td>Anagurthi</td>\n",
       "      <td>1999-01-11</td>\n",
       "      <td>Female</td>\n",
       "      <td>+13143350542'</td>\n",
       "      <td>...</td>\n",
       "      <td>63108</td>\n",
       "      <td>Saint Louis University</td>\n",
       "      <td>2025-05-01</td>\n",
       "      <td>Graduate Program Student</td>\n",
       "      <td>Information Systems</td>\n",
       "      <td>2024-11-03 12:01:41</td>\n",
       "      <td>Team Allocated</td>\n",
       "      <td>1070.0</td>\n",
       "      <td>2023-09-10 22:02:42</td>\n",
       "      <td>2022-03-11 18:30:39</td>\n",
       "    </tr>\n",
       "    <tr>\n",
       "      <th>4</th>\n",
       "      <td>01273a5e-fcc5-4b1a-a637-19aff497dac1</td>\n",
       "      <td>2023-06-01 15:26:36</td>\n",
       "      <td>Career Essentials: Getting Started with Your P...</td>\n",
       "      <td>Course</td>\n",
       "      <td>2024-06-29 18:52:39</td>\n",
       "      <td>Vinay Varshith</td>\n",
       "      <td>Pechetti</td>\n",
       "      <td>2000-04-19</td>\n",
       "      <td>Male</td>\n",
       "      <td>+917032055646'</td>\n",
       "      <td>...</td>\n",
       "      <td>63108</td>\n",
       "      <td>Saint Louis University</td>\n",
       "      <td>2024-12-01</td>\n",
       "      <td>Graduate Program Student</td>\n",
       "      <td>Computer Science</td>\n",
       "      <td>2024-11-03 12:01:41</td>\n",
       "      <td>Started</td>\n",
       "      <td>1080.0</td>\n",
       "      <td>2023-06-01 15:40:10</td>\n",
       "      <td>2022-03-11 18:30:39</td>\n",
       "    </tr>\n",
       "    <tr>\n",
       "      <th>5</th>\n",
       "      <td>01568c20-b177-4eda-824c-5b5e29d6eb42</td>\n",
       "      <td>2024-02-03 19:16:07</td>\n",
       "      <td>Career Essentials: Getting Started with Your P...</td>\n",
       "      <td>Course</td>\n",
       "      <td>2024-06-29 18:52:39</td>\n",
       "      <td>Mor</td>\n",
       "      <td>Samb</td>\n",
       "      <td>1996-12-05</td>\n",
       "      <td>Male</td>\n",
       "      <td>+918155821077'</td>\n",
       "      <td>...</td>\n",
       "      <td>360003</td>\n",
       "      <td>Saint Louis University</td>\n",
       "      <td>2028-05-01</td>\n",
       "      <td>Undergraduate Student</td>\n",
       "      <td>Mechanical Engineering</td>\n",
       "      <td>2024-11-03 12:01:41</td>\n",
       "      <td>Waitlisted</td>\n",
       "      <td>1040.0</td>\n",
       "      <td>2024-02-03 20:30:35</td>\n",
       "      <td>NaT</td>\n",
       "    </tr>\n",
       "  </tbody>\n",
       "</table>\n",
       "<p>5 rows × 25 columns</p>\n",
       "</div>"
      ],
      "text/plain": [
       "                             Profile Id Learner SignUp DateTime  \\\n",
       "0  004b8a25-17d4-4e9a-a41b-b5336327e170     06/14/2023 12:30:35   \n",
       "1  00628747-9775-4a85-a179-4d5007ccb8b7     2023-01-05 05:29:16   \n",
       "3  00f5161c-ba85-472d-9b0a-3301aac78598     08/29/2023 05:20:03   \n",
       "4  01273a5e-fcc5-4b1a-a637-19aff497dac1     2023-06-01 15:26:36   \n",
       "5  01568c20-b177-4eda-824c-5b5e29d6eb42     2024-02-03 19:16:07   \n",
       "\n",
       "                                    Opportunity Name Opportunity Category  \\\n",
       "0  Career Essentials: Getting Started with Your P...               Course   \n",
       "1  Career Essentials: Getting Started with Your P...               Course   \n",
       "3  Career Essentials: Getting Started with Your P...               Course   \n",
       "4  Career Essentials: Getting Started with Your P...               Course   \n",
       "5  Career Essentials: Getting Started with Your P...               Course   \n",
       "\n",
       "  Opportunity End Date        First Name  Last Name Date of Birth  Gender  \\\n",
       "0  2024-06-29 18:52:39             Faria       Khan    2001-12-01  Female   \n",
       "1  2024-06-29 18:52:39          Poojitha    Bembadi    2000-08-16  Female   \n",
       "3  2024-06-29 18:52:39  Amrutha Varshini  Anagurthi    1999-01-11  Female   \n",
       "4  2024-06-29 18:52:39    Vinay Varshith   Pechetti    2000-04-19    Male   \n",
       "5  2024-06-29 18:52:39               Mor       Samb    1996-12-05    Male   \n",
       "\n",
       "    Mobile Number  ... Zip Code        Institution Name Graduation Date  \\\n",
       "0  +923441950694'  ...      923                   Nwihs      2023-11-01   \n",
       "1  +919381442895'  ...   501106             SAINT LOUIS      2025-05-01   \n",
       "3   +13143350542'  ...    63108  Saint Louis University      2025-05-01   \n",
       "4  +917032055646'  ...    63108  Saint Louis University      2024-12-01   \n",
       "5  +918155821077'  ...   360003  Saint Louis University      2028-05-01   \n",
       "\n",
       "     Current Student Status  Current/Intended Major    Entry created at  \\\n",
       "0     Undergraduate Student               Radiology 2024-11-03 12:01:41   \n",
       "1  Graduate Program Student     Information Systems 2024-11-03 12:01:41   \n",
       "3  Graduate Program Student     Information Systems 2024-11-03 12:01:41   \n",
       "4  Graduate Program Student        Computer Science 2024-11-03 12:01:41   \n",
       "5     Undergraduate Student  Mechanical Engineering 2024-11-03 12:01:41   \n",
       "\n",
       "  Status Description Status Code          Apply Date Opportunity Start Date  \n",
       "0            Started      1080.0 2023-06-14 12:36:09    2022-03-11 18:30:39  \n",
       "1            Started      1080.0 2023-01-05 06:08:21    2022-03-11 18:30:39  \n",
       "3     Team Allocated      1070.0 2023-09-10 22:02:42    2022-03-11 18:30:39  \n",
       "4            Started      1080.0 2023-06-01 15:40:10    2022-03-11 18:30:39  \n",
       "5         Waitlisted      1040.0 2024-02-03 20:30:35                    NaT  \n",
       "\n",
       "[5 rows x 25 columns]"
      ]
     },
     "execution_count": 52,
     "metadata": {},
     "output_type": "execute_result"
    }
   ],
   "source": [
    "students.head()"
   ]
  },
  {
   "cell_type": "code",
   "execution_count": 54,
   "id": "458ad04e-035e-49de-a474-21c5c81bc5ae",
   "metadata": {},
   "outputs": [],
   "source": [
    "# Drop rows where First Name and Last Name contain characters other than alphabets\n",
    "students = students[students['First Name'].apply(lambda x: str(x).isalpha())]\n",
    "students = students[students['Last Name'].apply(lambda x: str(x).isalpha())]"
   ]
  },
  {
   "cell_type": "code",
   "execution_count": 56,
   "id": "3b897961-a52c-4a9d-bca3-1e0654fc510e",
   "metadata": {},
   "outputs": [],
   "source": [
    "# Remove single quotes from Mobile Number\n",
    "students['Mobile Number'] = students['Mobile Number'].str.replace(\"'\", \"\")"
   ]
  },
  {
   "cell_type": "code",
   "execution_count": 58,
   "id": "1f6a26c5-2eda-4676-b0f8-ed35796243c1",
   "metadata": {},
   "outputs": [
    {
     "data": {
      "text/plain": [
       "0         +923441950694\n",
       "1         +919381442895\n",
       "5         +918155821077\n",
       "6         +919820278783\n",
       "8         +919870953256\n",
       "             ...       \n",
       "8550       +13142202127\n",
       "8552      +917666298687\n",
       "8553      +251991315588\n",
       "8555    +23409131855898\n",
       "8556       +13146577983\n",
       "Name: Mobile Number, Length: 5647, dtype: object"
      ]
     },
     "execution_count": 58,
     "metadata": {},
     "output_type": "execute_result"
    }
   ],
   "source": [
    "students['Mobile Number']"
   ]
  },
  {
   "cell_type": "code",
   "execution_count": 60,
   "id": "b66aa081-6c01-4faf-9aca-15d8fae4f6bc",
   "metadata": {},
   "outputs": [
    {
     "data": {
      "text/html": [
       "<div>\n",
       "<style scoped>\n",
       "    .dataframe tbody tr th:only-of-type {\n",
       "        vertical-align: middle;\n",
       "    }\n",
       "\n",
       "    .dataframe tbody tr th {\n",
       "        vertical-align: top;\n",
       "    }\n",
       "\n",
       "    .dataframe thead th {\n",
       "        text-align: right;\n",
       "    }\n",
       "</style>\n",
       "<table border=\"1\" class=\"dataframe\">\n",
       "  <thead>\n",
       "    <tr style=\"text-align: right;\">\n",
       "      <th></th>\n",
       "      <th>Learner SignUp DateTime</th>\n",
       "      <th>Opportunity Name</th>\n",
       "      <th>Opportunity Category</th>\n",
       "      <th>Opportunity End Date</th>\n",
       "      <th>First Name</th>\n",
       "      <th>Last Name</th>\n",
       "      <th>Date of Birth</th>\n",
       "      <th>Gender</th>\n",
       "      <th>Mobile Number</th>\n",
       "      <th>Address Line 1</th>\n",
       "      <th>...</th>\n",
       "      <th>Zip Code</th>\n",
       "      <th>Institution Name</th>\n",
       "      <th>Graduation Date</th>\n",
       "      <th>Current Student Status</th>\n",
       "      <th>Current/Intended Major</th>\n",
       "      <th>Entry created at</th>\n",
       "      <th>Status Description</th>\n",
       "      <th>Status Code</th>\n",
       "      <th>Apply Date</th>\n",
       "      <th>Opportunity Start Date</th>\n",
       "    </tr>\n",
       "  </thead>\n",
       "  <tbody>\n",
       "    <tr>\n",
       "      <th>0</th>\n",
       "      <td>06/14/2023 12:30:35</td>\n",
       "      <td>Career Essentials: Getting Started with Your P...</td>\n",
       "      <td>Course</td>\n",
       "      <td>2024-06-29 18:52:39</td>\n",
       "      <td>Faria</td>\n",
       "      <td>Khan</td>\n",
       "      <td>2001-12-01</td>\n",
       "      <td>Female</td>\n",
       "      <td>+923441950694</td>\n",
       "      <td>Peshwar</td>\n",
       "      <td>...</td>\n",
       "      <td>923</td>\n",
       "      <td>Nwihs</td>\n",
       "      <td>2023-11-01</td>\n",
       "      <td>Undergraduate Student</td>\n",
       "      <td>Radiology</td>\n",
       "      <td>2024-11-03 12:01:41</td>\n",
       "      <td>Started</td>\n",
       "      <td>1080.0</td>\n",
       "      <td>2023-06-14 12:36:09</td>\n",
       "      <td>2022-03-11 18:30:39</td>\n",
       "    </tr>\n",
       "    <tr>\n",
       "      <th>1</th>\n",
       "      <td>2023-01-05 05:29:16</td>\n",
       "      <td>Career Essentials: Getting Started with Your P...</td>\n",
       "      <td>Course</td>\n",
       "      <td>2024-06-29 18:52:39</td>\n",
       "      <td>Poojitha</td>\n",
       "      <td>Bembadi</td>\n",
       "      <td>2000-08-16</td>\n",
       "      <td>Female</td>\n",
       "      <td>+919381442895</td>\n",
       "      <td>H.no 18/4  sultanpur village</td>\n",
       "      <td>...</td>\n",
       "      <td>501106</td>\n",
       "      <td>SAINT LOUIS</td>\n",
       "      <td>2025-05-01</td>\n",
       "      <td>Graduate Program Student</td>\n",
       "      <td>Information Systems</td>\n",
       "      <td>2024-11-03 12:01:41</td>\n",
       "      <td>Started</td>\n",
       "      <td>1080.0</td>\n",
       "      <td>2023-01-05 06:08:21</td>\n",
       "      <td>2022-03-11 18:30:39</td>\n",
       "    </tr>\n",
       "    <tr>\n",
       "      <th>5</th>\n",
       "      <td>2024-02-03 19:16:07</td>\n",
       "      <td>Career Essentials: Getting Started with Your P...</td>\n",
       "      <td>Course</td>\n",
       "      <td>2024-06-29 18:52:39</td>\n",
       "      <td>Mor</td>\n",
       "      <td>Samb</td>\n",
       "      <td>1996-12-05</td>\n",
       "      <td>Male</td>\n",
       "      <td>+918155821077</td>\n",
       "      <td>Rajkot Morbi Highway</td>\n",
       "      <td>...</td>\n",
       "      <td>360003</td>\n",
       "      <td>Saint Louis University</td>\n",
       "      <td>2028-05-01</td>\n",
       "      <td>Undergraduate Student</td>\n",
       "      <td>Mechanical Engineering</td>\n",
       "      <td>2024-11-03 12:01:41</td>\n",
       "      <td>Waitlisted</td>\n",
       "      <td>1040.0</td>\n",
       "      <td>2024-02-03 20:30:35</td>\n",
       "      <td>NaT</td>\n",
       "    </tr>\n",
       "    <tr>\n",
       "      <th>6</th>\n",
       "      <td>05/31/2023 07:11:04</td>\n",
       "      <td>Career Essentials: Getting Started with Your P...</td>\n",
       "      <td>Course</td>\n",
       "      <td>2024-06-29 18:52:39</td>\n",
       "      <td>Fardeen</td>\n",
       "      <td>Shroff</td>\n",
       "      <td>2001-09-09</td>\n",
       "      <td>Male</td>\n",
       "      <td>+919820278783</td>\n",
       "      <td>E 701 702 Madhuban Chs Yari Road</td>\n",
       "      <td>...</td>\n",
       "      <td>400061</td>\n",
       "      <td>Illinois Institute of Technology</td>\n",
       "      <td>2025-12-01</td>\n",
       "      <td>Graduate Program Student</td>\n",
       "      <td>Computer Science and Engineering</td>\n",
       "      <td>2024-11-03 12:01:41</td>\n",
       "      <td>Withdraw</td>\n",
       "      <td>1110.0</td>\n",
       "      <td>2023-06-14 05:29:41</td>\n",
       "      <td>2022-03-11 18:30:39</td>\n",
       "    </tr>\n",
       "    <tr>\n",
       "      <th>8</th>\n",
       "      <td>03/20/2023 16:36:30</td>\n",
       "      <td>Career Essentials: Getting Started with Your P...</td>\n",
       "      <td>Course</td>\n",
       "      <td>2024-06-29 18:52:39</td>\n",
       "      <td>SIDDHARTH</td>\n",
       "      <td>RAJAWAT</td>\n",
       "      <td>2005-12-22</td>\n",
       "      <td>Male</td>\n",
       "      <td>+919870953256</td>\n",
       "      <td>Plot No. 125</td>\n",
       "      <td>...</td>\n",
       "      <td>250001</td>\n",
       "      <td>Ashoka Academy</td>\n",
       "      <td>2028-07-01</td>\n",
       "      <td>High School Student</td>\n",
       "      <td>Robotics and Automation Engineering</td>\n",
       "      <td>2024-11-03 12:01:41</td>\n",
       "      <td>Started</td>\n",
       "      <td>1080.0</td>\n",
       "      <td>2023-05-24 13:44:09</td>\n",
       "      <td>2022-03-11 18:30:39</td>\n",
       "    </tr>\n",
       "    <tr>\n",
       "      <th>...</th>\n",
       "      <td>...</td>\n",
       "      <td>...</td>\n",
       "      <td>...</td>\n",
       "      <td>...</td>\n",
       "      <td>...</td>\n",
       "      <td>...</td>\n",
       "      <td>...</td>\n",
       "      <td>...</td>\n",
       "      <td>...</td>\n",
       "      <td>...</td>\n",
       "      <td>...</td>\n",
       "      <td>...</td>\n",
       "      <td>...</td>\n",
       "      <td>...</td>\n",
       "      <td>...</td>\n",
       "      <td>...</td>\n",
       "      <td>...</td>\n",
       "      <td>...</td>\n",
       "      <td>...</td>\n",
       "      <td>...</td>\n",
       "      <td>...</td>\n",
       "    </tr>\n",
       "    <tr>\n",
       "      <th>8550</th>\n",
       "      <td>12/27/2023 23:52:13</td>\n",
       "      <td>Freelance Mastery workshop</td>\n",
       "      <td>Event</td>\n",
       "      <td>2024-08-03 11:30:00</td>\n",
       "      <td>Saikrishna</td>\n",
       "      <td>Vennam</td>\n",
       "      <td>1999-01-18</td>\n",
       "      <td>Male</td>\n",
       "      <td>+13142202127</td>\n",
       "      <td>2225  13 palestre drive</td>\n",
       "      <td>...</td>\n",
       "      <td>63146</td>\n",
       "      <td>Saint Louis university</td>\n",
       "      <td>2025-12-01</td>\n",
       "      <td>Graduate Program Student</td>\n",
       "      <td>Information Systems</td>\n",
       "      <td>2024-11-03 12:03:14</td>\n",
       "      <td>Team Allocated</td>\n",
       "      <td>1070.0</td>\n",
       "      <td>2024-08-03 07:25:42</td>\n",
       "      <td>2024-08-03 14:00:00</td>\n",
       "    </tr>\n",
       "    <tr>\n",
       "      <th>8552</th>\n",
       "      <td>2024-06-01 17:04:30</td>\n",
       "      <td>Freelance Mastery workshop</td>\n",
       "      <td>Event</td>\n",
       "      <td>2024-08-03 11:30:00</td>\n",
       "      <td>Kaustubh</td>\n",
       "      <td>Avhad</td>\n",
       "      <td>2003-06-07</td>\n",
       "      <td>Male</td>\n",
       "      <td>+917666298687</td>\n",
       "      <td>At Post Nashik</td>\n",
       "      <td>...</td>\n",
       "      <td>4222102</td>\n",
       "      <td>P. V. G Nashik</td>\n",
       "      <td>2025-07-01</td>\n",
       "      <td>Undergraduate Student</td>\n",
       "      <td>Artificial Intelligence and Data Science</td>\n",
       "      <td>2024-11-03 12:03:14</td>\n",
       "      <td>Team Allocated</td>\n",
       "      <td>1070.0</td>\n",
       "      <td>2024-12-02 03:01:56</td>\n",
       "      <td>2024-08-03 14:00:00</td>\n",
       "    </tr>\n",
       "    <tr>\n",
       "      <th>8553</th>\n",
       "      <td>2024-05-03 16:39:21</td>\n",
       "      <td>Freelance Mastery workshop</td>\n",
       "      <td>Event</td>\n",
       "      <td>2024-08-03 11:30:00</td>\n",
       "      <td>Selam</td>\n",
       "      <td>Endale</td>\n",
       "      <td>2006-10-14</td>\n",
       "      <td>Female</td>\n",
       "      <td>+251991315588</td>\n",
       "      <td>Dej Mekonnen street</td>\n",
       "      <td>...</td>\n",
       "      <td>1000</td>\n",
       "      <td>Lideta Catholic Cathedral School</td>\n",
       "      <td>2024-06-01</td>\n",
       "      <td>High School Student</td>\n",
       "      <td>Computer Science</td>\n",
       "      <td>2024-11-03 12:03:14</td>\n",
       "      <td>Team Allocated</td>\n",
       "      <td>1070.0</td>\n",
       "      <td>2024-05-03 17:10:41</td>\n",
       "      <td>2024-08-03 14:00:00</td>\n",
       "    </tr>\n",
       "    <tr>\n",
       "      <th>8555</th>\n",
       "      <td>02/29/2024 15:02:31</td>\n",
       "      <td>Freelance Mastery workshop</td>\n",
       "      <td>Event</td>\n",
       "      <td>2024-08-03 11:30:00</td>\n",
       "      <td>Abiola</td>\n",
       "      <td>Ibrahim</td>\n",
       "      <td>1999-03-16</td>\n",
       "      <td>Male</td>\n",
       "      <td>+23409131855898</td>\n",
       "      <td>12 lawal street oshogun alapere ketu Lagos</td>\n",
       "      <td>...</td>\n",
       "      <td>11004</td>\n",
       "      <td>Tai Solarin university of Education</td>\n",
       "      <td>2023-10-01</td>\n",
       "      <td>Graduate Program Student</td>\n",
       "      <td>Political Science</td>\n",
       "      <td>2024-11-03 12:03:14</td>\n",
       "      <td>Team Allocated</td>\n",
       "      <td>1070.0</td>\n",
       "      <td>2024-02-29 15:10:06</td>\n",
       "      <td>2024-08-03 14:00:00</td>\n",
       "    </tr>\n",
       "    <tr>\n",
       "      <th>8556</th>\n",
       "      <td>12/23/2023 03:53:12</td>\n",
       "      <td>Freelance Mastery workshop</td>\n",
       "      <td>Event</td>\n",
       "      <td>2024-08-03 11:30:00</td>\n",
       "      <td>venumadhavi</td>\n",
       "      <td>bogireddy</td>\n",
       "      <td>1997-05-06</td>\n",
       "      <td>Female</td>\n",
       "      <td>+13146577983</td>\n",
       "      <td>18s Kingshighway Blvd  Mac properties 07U  St....</td>\n",
       "      <td>...</td>\n",
       "      <td>63108</td>\n",
       "      <td>Saint Louis University</td>\n",
       "      <td>2024-12-01</td>\n",
       "      <td>Graduate Program Student</td>\n",
       "      <td>Information Systems</td>\n",
       "      <td>2024-11-03 12:03:14</td>\n",
       "      <td>Team Allocated</td>\n",
       "      <td>1070.0</td>\n",
       "      <td>2024-02-27 06:48:47</td>\n",
       "      <td>2024-08-03 14:00:00</td>\n",
       "    </tr>\n",
       "  </tbody>\n",
       "</table>\n",
       "<p>5647 rows × 24 columns</p>\n",
       "</div>"
      ],
      "text/plain": [
       "     Learner SignUp DateTime  \\\n",
       "0        06/14/2023 12:30:35   \n",
       "1        2023-01-05 05:29:16   \n",
       "5        2024-02-03 19:16:07   \n",
       "6        05/31/2023 07:11:04   \n",
       "8        03/20/2023 16:36:30   \n",
       "...                      ...   \n",
       "8550     12/27/2023 23:52:13   \n",
       "8552     2024-06-01 17:04:30   \n",
       "8553     2024-05-03 16:39:21   \n",
       "8555     02/29/2024 15:02:31   \n",
       "8556     12/23/2023 03:53:12   \n",
       "\n",
       "                                       Opportunity Name Opportunity Category  \\\n",
       "0     Career Essentials: Getting Started with Your P...               Course   \n",
       "1     Career Essentials: Getting Started with Your P...               Course   \n",
       "5     Career Essentials: Getting Started with Your P...               Course   \n",
       "6     Career Essentials: Getting Started with Your P...               Course   \n",
       "8     Career Essentials: Getting Started with Your P...               Course   \n",
       "...                                                 ...                  ...   \n",
       "8550                         Freelance Mastery workshop                Event   \n",
       "8552                         Freelance Mastery workshop                Event   \n",
       "8553                         Freelance Mastery workshop                Event   \n",
       "8555                         Freelance Mastery workshop                Event   \n",
       "8556                         Freelance Mastery workshop                Event   \n",
       "\n",
       "     Opportunity End Date   First Name  Last Name Date of Birth  Gender  \\\n",
       "0     2024-06-29 18:52:39        Faria       Khan    2001-12-01  Female   \n",
       "1     2024-06-29 18:52:39     Poojitha    Bembadi    2000-08-16  Female   \n",
       "5     2024-06-29 18:52:39          Mor       Samb    1996-12-05    Male   \n",
       "6     2024-06-29 18:52:39      Fardeen     Shroff    2001-09-09    Male   \n",
       "8     2024-06-29 18:52:39    SIDDHARTH    RAJAWAT    2005-12-22    Male   \n",
       "...                   ...          ...        ...           ...     ...   \n",
       "8550  2024-08-03 11:30:00   Saikrishna     Vennam    1999-01-18    Male   \n",
       "8552  2024-08-03 11:30:00     Kaustubh      Avhad    2003-06-07    Male   \n",
       "8553  2024-08-03 11:30:00        Selam     Endale    2006-10-14  Female   \n",
       "8555  2024-08-03 11:30:00       Abiola    Ibrahim    1999-03-16    Male   \n",
       "8556  2024-08-03 11:30:00  venumadhavi  bogireddy    1997-05-06  Female   \n",
       "\n",
       "        Mobile Number                                     Address Line 1  ...  \\\n",
       "0       +923441950694                                            Peshwar  ...   \n",
       "1       +919381442895                       H.no 18/4  sultanpur village  ...   \n",
       "5       +918155821077                               Rajkot Morbi Highway  ...   \n",
       "6       +919820278783                   E 701 702 Madhuban Chs Yari Road  ...   \n",
       "8       +919870953256                                       Plot No. 125  ...   \n",
       "...               ...                                                ...  ...   \n",
       "8550     +13142202127                            2225  13 palestre drive  ...   \n",
       "8552    +917666298687                                     At Post Nashik  ...   \n",
       "8553    +251991315588                                Dej Mekonnen street  ...   \n",
       "8555  +23409131855898         12 lawal street oshogun alapere ketu Lagos  ...   \n",
       "8556     +13146577983  18s Kingshighway Blvd  Mac properties 07U  St....  ...   \n",
       "\n",
       "     Zip Code                     Institution Name Graduation Date  \\\n",
       "0         923                                Nwihs      2023-11-01   \n",
       "1      501106                          SAINT LOUIS      2025-05-01   \n",
       "5      360003               Saint Louis University      2028-05-01   \n",
       "6      400061     Illinois Institute of Technology      2025-12-01   \n",
       "8      250001                       Ashoka Academy      2028-07-01   \n",
       "...       ...                                  ...             ...   \n",
       "8550    63146               Saint Louis university      2025-12-01   \n",
       "8552  4222102                       P. V. G Nashik      2025-07-01   \n",
       "8553     1000     Lideta Catholic Cathedral School      2024-06-01   \n",
       "8555    11004  Tai Solarin university of Education      2023-10-01   \n",
       "8556    63108               Saint Louis University      2024-12-01   \n",
       "\n",
       "        Current Student Status                    Current/Intended Major  \\\n",
       "0        Undergraduate Student                                 Radiology   \n",
       "1     Graduate Program Student                       Information Systems   \n",
       "5        Undergraduate Student                    Mechanical Engineering   \n",
       "6     Graduate Program Student          Computer Science and Engineering   \n",
       "8          High School Student       Robotics and Automation Engineering   \n",
       "...                        ...                                       ...   \n",
       "8550  Graduate Program Student                       Information Systems   \n",
       "8552     Undergraduate Student  Artificial Intelligence and Data Science   \n",
       "8553       High School Student                          Computer Science   \n",
       "8555  Graduate Program Student                         Political Science   \n",
       "8556  Graduate Program Student                       Information Systems   \n",
       "\n",
       "        Entry created at Status Description Status Code          Apply Date  \\\n",
       "0    2024-11-03 12:01:41            Started      1080.0 2023-06-14 12:36:09   \n",
       "1    2024-11-03 12:01:41            Started      1080.0 2023-01-05 06:08:21   \n",
       "5    2024-11-03 12:01:41         Waitlisted      1040.0 2024-02-03 20:30:35   \n",
       "6    2024-11-03 12:01:41           Withdraw      1110.0 2023-06-14 05:29:41   \n",
       "8    2024-11-03 12:01:41            Started      1080.0 2023-05-24 13:44:09   \n",
       "...                  ...                ...         ...                 ...   \n",
       "8550 2024-11-03 12:03:14     Team Allocated      1070.0 2024-08-03 07:25:42   \n",
       "8552 2024-11-03 12:03:14     Team Allocated      1070.0 2024-12-02 03:01:56   \n",
       "8553 2024-11-03 12:03:14     Team Allocated      1070.0 2024-05-03 17:10:41   \n",
       "8555 2024-11-03 12:03:14     Team Allocated      1070.0 2024-02-29 15:10:06   \n",
       "8556 2024-11-03 12:03:14     Team Allocated      1070.0 2024-02-27 06:48:47   \n",
       "\n",
       "     Opportunity Start Date  \n",
       "0       2022-03-11 18:30:39  \n",
       "1       2022-03-11 18:30:39  \n",
       "5                       NaT  \n",
       "6       2022-03-11 18:30:39  \n",
       "8       2022-03-11 18:30:39  \n",
       "...                     ...  \n",
       "8550    2024-08-03 14:00:00  \n",
       "8552    2024-08-03 14:00:00  \n",
       "8553    2024-08-03 14:00:00  \n",
       "8555    2024-08-03 14:00:00  \n",
       "8556    2024-08-03 14:00:00  \n",
       "\n",
       "[5647 rows x 24 columns]"
      ]
     },
     "execution_count": 60,
     "metadata": {},
     "output_type": "execute_result"
    }
   ],
   "source": [
    "students.drop(columns = ['Profile Id'])"
   ]
  },
  {
   "cell_type": "code",
   "execution_count": 74,
   "id": "d30d49de-a2e5-4731-b275-62ca2251a21c",
   "metadata": {},
   "outputs": [
    {
     "name": "stdout",
     "output_type": "stream",
     "text": [
      "0\n"
     ]
    }
   ],
   "source": [
    "print(students['Opportunity End Date'].isna().sum())"
   ]
  },
  {
   "cell_type": "code",
   "execution_count": 76,
   "id": "48c02d16-9317-4572-a08d-ab18b5605a91",
   "metadata": {},
   "outputs": [
    {
     "name": "stdout",
     "output_type": "stream",
     "text": [
      "2901\n"
     ]
    }
   ],
   "source": [
    "print(students['Opportunity Start Date'].isna().sum())"
   ]
  },
  {
   "cell_type": "code",
   "execution_count": 78,
   "id": "66fa9d97-b591-4969-ab45-d88674560c37",
   "metadata": {},
   "outputs": [
    {
     "name": "stdout",
     "output_type": "stream",
     "text": [
      "0\n"
     ]
    }
   ],
   "source": [
    "print(students['Graduation Date'].isna().sum())"
   ]
  },
  {
   "cell_type": "code",
   "execution_count": 86,
   "id": "4470ec0e-78a8-4e1f-8644-07cb642df45e",
   "metadata": {},
   "outputs": [
    {
     "name": "stdout",
     "output_type": "stream",
     "text": [
      "Columns with empty entries:\n",
      "Address Line 2            3311\n",
      "Apply Date                 135\n",
      "Opportunity Start Date    2901\n",
      "dtype: int64\n",
      "Total number of empty entries: 6347\n"
     ]
    }
   ],
   "source": [
    "# 1. Count the number of NaN values in each column\n",
    "empty_per_column = students.isna().sum()\n",
    "\n",
    "# 2. Filter columns that have at least one NaN\n",
    "columns_with_empty = empty_per_column[empty_per_column > 0]\n",
    "\n",
    "# 3. Total number of NaN values across the entire dataframe\n",
    "total_empty = students.isna().sum().sum()\n",
    "\n",
    "print(f\"Columns with empty entries:\\n{columns_with_empty}\")\n",
    "print(f\"Total number of empty entries: {total_empty}\")"
   ]
  },
  {
   "cell_type": "code",
   "execution_count": 90,
   "id": "172488b0-1553-485a-b5c6-b56303fadf38",
   "metadata": {},
   "outputs": [
    {
     "name": "stdout",
     "output_type": "stream",
     "text": [
      "Original DataFrame shape: (1125, 25)\n",
      "Cleaned DataFrame shape: (1125, 25)\n"
     ]
    }
   ],
   "source": [
    "# Drop all rows with missing entries\n",
    "students = students.dropna()\n",
    "\n",
    "# Optionally, check the result\n",
    "print(f\"Original DataFrame shape: {students.shape}\")\n",
    "print(f\"Cleaned DataFrame shape: {students.shape}\")"
   ]
  },
  {
   "cell_type": "code",
   "execution_count": 94,
   "id": "d24cd6e0-b3d8-4735-a990-24dcd83b51b5",
   "metadata": {},
   "outputs": [
    {
     "name": "stdout",
     "output_type": "stream",
     "text": [
      "DataFrame shape after dropping columns: (1125, 24)\n"
     ]
    }
   ],
   "source": [
    "# Drop specific columns\n",
    "students = students.drop(['Address Line 2'], axis=1)\n",
    "\n",
    "# Optionally, check the result\n",
    "print(f\"DataFrame shape after dropping columns: {students.shape}\")"
   ]
  },
  {
   "cell_type": "code",
   "execution_count": 98,
   "id": "843a298a-2bb9-48bd-a5c6-4a8dca90f259",
   "metadata": {},
   "outputs": [
    {
     "name": "stdout",
     "output_type": "stream",
     "text": [
      "DataFrame shape after dropping columns: (1125, 23)\n"
     ]
    }
   ],
   "source": [
    "# Drop specific columns\n",
    "students = students.drop(['Profile Id'], axis=1)\n",
    "\n",
    "# Optionally, check the result\n",
    "print(f\"DataFrame shape after dropping columns: {students.shape}\")"
   ]
  },
  {
   "cell_type": "code",
   "execution_count": 100,
   "id": "e2d2c8ba-bfd7-4adf-bc88-b884a156cc48",
   "metadata": {},
   "outputs": [
    {
     "name": "stdout",
     "output_type": "stream",
     "text": [
      "<class 'pandas.core.frame.DataFrame'>\n",
      "Int64Index: 1125 entries, 1 to 8553\n",
      "Data columns (total 23 columns):\n",
      " #   Column                   Non-Null Count  Dtype         \n",
      "---  ------                   --------------  -----         \n",
      " 0   Learner SignUp DateTime  1125 non-null   object        \n",
      " 1   Opportunity Name         1125 non-null   object        \n",
      " 2   Opportunity Category     1125 non-null   object        \n",
      " 3   Opportunity End Date     1125 non-null   datetime64[ns]\n",
      " 4   First Name               1125 non-null   object        \n",
      " 5   Last Name                1125 non-null   object        \n",
      " 6   Date of Birth            1125 non-null   datetime64[ns]\n",
      " 7   Gender                   1125 non-null   object        \n",
      " 8   Mobile Number            1125 non-null   object        \n",
      " 9   Address Line 1           1125 non-null   object        \n",
      " 10  City                     1125 non-null   object        \n",
      " 11  State                    1125 non-null   object        \n",
      " 12  Country                  1125 non-null   object        \n",
      " 13  Zip Code                 1125 non-null   int32         \n",
      " 14  Institution Name         1125 non-null   object        \n",
      " 15  Graduation Date          1125 non-null   datetime64[ns]\n",
      " 16  Current Student Status   1125 non-null   object        \n",
      " 17  Current/Intended Major   1125 non-null   object        \n",
      " 18  Entry created at         1125 non-null   datetime64[ns]\n",
      " 19  Status Description       1125 non-null   object        \n",
      " 20  Status Code              1125 non-null   float64       \n",
      " 21  Apply Date               1125 non-null   datetime64[ns]\n",
      " 22  Opportunity Start Date   1125 non-null   datetime64[ns]\n",
      "dtypes: datetime64[ns](6), float64(1), int32(1), object(15)\n",
      "memory usage: 206.5+ KB\n"
     ]
    }
   ],
   "source": [
    "students.info()"
   ]
  },
  {
   "cell_type": "markdown",
   "id": "15deb064-2ba3-4592-8a34-5b34319cf497",
   "metadata": {},
   "source": [
    "At this point in time, data is cleaned and pretty much validated"
   ]
  },
  {
   "cell_type": "markdown",
   "id": "7082a298-8c19-41cd-a5cf-d75b17964b93",
   "metadata": {},
   "source": [
    "## Feature Engineering"
   ]
  },
  {
   "cell_type": "markdown",
   "id": "31caad6e-514b-4f2c-b855-f9bc65d19b49",
   "metadata": {},
   "source": [
    "Following are the new features created as mentioned on the website: https://engage.4excelerate.org/mod/page/view.php?id=18891"
   ]
  },
  {
   "cell_type": "markdown",
   "id": "695b9e1c-f501-4394-b632-fd37c6f281a1",
   "metadata": {},
   "source": [
    "### 1. Creating new features"
   ]
  },
  {
   "cell_type": "markdown",
   "id": "9a84184a-5ee7-47fa-af9e-89a7bb54e191",
   "metadata": {},
   "source": [
    "#### 1.1: Age of Learner"
   ]
  },
  {
   "cell_type": "code",
   "execution_count": 102,
   "id": "55b64c59-d816-4e03-b98f-cc2c9374bd47",
   "metadata": {},
   "outputs": [
    {
     "name": "stdout",
     "output_type": "stream",
     "text": [
      "   Date of Birth  Age of Learner\n",
      "1     2000-08-16              24\n",
      "6     2001-09-09              23\n",
      "8     2005-12-22              18\n",
      "9     1998-06-26              26\n",
      "15    2004-12-04              19\n"
     ]
    }
   ],
   "source": [
    "from datetime import datetime\n",
    "import pandas as pd\n",
    "\n",
    "# Ensure 'Date of Birth' is in datetime format\n",
    "students['Date of Birth'] = pd.to_datetime(students['Date of Birth'], errors='coerce')\n",
    "\n",
    "# Calculate the age of learners\n",
    "today = pd.Timestamp(datetime.today())\n",
    "\n",
    "# Calculate the age, taking into account whether the birthday has occurred yet this year\n",
    "students['Age of Learner'] = today.year - students['Date of Birth'].dt.year - (\n",
    "    (today.month < students['Date of Birth'].dt.month) | \n",
    "    ((today.month == students['Date of Birth'].dt.month) & (today.day < students['Date of Birth'].dt.day))\n",
    ")\n",
    "\n",
    "# Display the first few rows to verify the age calculation\n",
    "print(students[['Date of Birth', 'Age of Learner']].head())"
   ]
  },
  {
   "cell_type": "markdown",
   "id": "be4e34ff-906d-4b32-9dbd-e52e3066ecc3",
   "metadata": {},
   "source": [
    "New column added \"Age of Learner\""
   ]
  },
  {
   "cell_type": "markdown",
   "id": "866725cd-283b-422f-94d6-48748b8cd63f",
   "metadata": {},
   "source": [
    "#### 1.2: Engagement Duration"
   ]
  },
  {
   "cell_type": "code",
   "execution_count": 104,
   "id": "2edd9545-ffd5-4f6f-b37b-e52feae61083",
   "metadata": {},
   "outputs": [
    {
     "name": "stdout",
     "output_type": "stream",
     "text": [
      "            Apply Date Opportunity Start Date  Engagement Duration\n",
      "1  2023-01-05 06:08:21    2022-03-11 18:30:39                 -300\n",
      "6  2023-06-14 05:29:41    2022-03-11 18:30:39                 -460\n",
      "8  2023-05-24 13:44:09    2022-03-11 18:30:39                 -439\n",
      "9  2023-12-17 02:58:44    2022-03-11 18:30:39                 -646\n",
      "15 2023-02-04 18:18:51    2022-03-11 18:30:39                 -330\n"
     ]
    }
   ],
   "source": [
    "# Ensure 'Apply Date' and 'Opportunity Start Date' are in datetime format\n",
    "students['Apply Date'] = pd.to_datetime(students['Apply Date'], errors='coerce')\n",
    "students['Opportunity Start Date'] = pd.to_datetime(students['Opportunity Start Date'], errors='coerce')\n",
    "\n",
    "# Calculate the engagement duration (difference in days between application and start date)\n",
    "students['Engagement Duration'] = (students['Opportunity Start Date'] - students['Apply Date']).dt.days\n",
    "\n",
    "# Display the first few rows to verify the calculation\n",
    "print(students[['Apply Date', 'Opportunity Start Date', 'Engagement Duration']].head())"
   ]
  },
  {
   "cell_type": "markdown",
   "id": "08f86882-953f-4b99-8001-2c9db87a59fe",
   "metadata": {},
   "source": [
    "New column \"Engagement Duration\" added"
   ]
  },
  {
   "cell_type": "markdown",
   "id": "5701dcd8-fd6b-4360-97bb-bb418e7c2cef",
   "metadata": {},
   "source": [
    "### 2. Transforming Existing Features"
   ]
  },
  {
   "cell_type": "markdown",
   "id": "37f00a07-0ef6-4286-bba6-792fb7f2a24a",
   "metadata": {},
   "source": [
    "#### 2.1: Normalization of Engagement Metrics:"
   ]
  },
  {
   "cell_type": "markdown",
   "id": "97af0e0c-3605-4940-bc09-917e07303c06",
   "metadata": {},
   "source": [
    "Using MinMaxScaler for normalization:\n",
    "\n",
    "X_scaled = (X - Xmin) / (Xmax - Xmin)\n",
    "\n",
    "This rescales the values between 0 and 1"
   ]
  },
  {
   "cell_type": "code",
   "execution_count": 108,
   "id": "6e582301-0467-470b-bf3c-e1f9ff369fff",
   "metadata": {},
   "outputs": [
    {
     "name": "stdout",
     "output_type": "stream",
     "text": [
      "    Age of Learner  Engagement Duration\n",
      "1         0.263158             0.445083\n",
      "6         0.236842             0.342912\n",
      "8         0.105263             0.356322\n",
      "9         0.315789             0.224138\n",
      "15        0.131579             0.425926\n"
     ]
    }
   ],
   "source": [
    "from sklearn.preprocessing import MinMaxScaler\n",
    "\n",
    "# Initialize the scaler\n",
    "scaler = MinMaxScaler()\n",
    "\n",
    "# Select the columns to normalize\n",
    "columns_to_normalize = ['Age of Learner', 'Engagement Duration']\n",
    "\n",
    "# Apply Min-Max Scaling\n",
    "students[columns_to_normalize] = scaler.fit_transform(students[columns_to_normalize])\n",
    "\n",
    "# Display the first few rows to check the normalization\n",
    "print(students[['Age of Learner', 'Engagement Duration']].head())"
   ]
  },
  {
   "cell_type": "markdown",
   "id": "d2d2496d-3e3c-43a3-92e8-de622571ceaf",
   "metadata": {},
   "source": [
    "#### 2.2: Encoding Categorical Data:"
   ]
  },
  {
   "cell_type": "markdown",
   "id": "cdbb617a-fd20-4c7d-9287-a56c40fa5237",
   "metadata": {},
   "source": [
    "We are no longer gonna do this now in this step\n",
    "\n",
    "# List of categorical columns to encode\n",
    "categorical_columns = ['Gender', 'State', 'Country', 'Opportunity Category']\n",
    "\n",
    "# Apply One-Hot Encoding\n",
    "students_encoded = pd.get_dummies(students, columns=categorical_columns, drop_first=True)\n",
    "\n",
    "# Display the first few rows of the transformed dataset\n",
    "print(students_encoded.head())"
   ]
  },
  {
   "cell_type": "markdown",
   "id": "cfe3c684-6e6c-4590-a21d-a8b53077edfa",
   "metadata": {},
   "source": [
    "### 3. Extracting Useful Components"
   ]
  },
  {
   "cell_type": "markdown",
   "id": "3117a883-c332-4694-bbd2-68b5794dfb5d",
   "metadata": {},
   "source": [
    "#### 3.1: Date-Based Features:"
   ]
  },
  {
   "cell_type": "code",
   "execution_count": 110,
   "id": "2acebbc6-a29d-4667-8e7d-80b818fb52cf",
   "metadata": {},
   "outputs": [
    {
     "name": "stdout",
     "output_type": "stream",
     "text": [
      "   Learner SignUp DateTime  SignUp Month  SignUp Year\n",
      "1      2023-01-05 05:29:16           1.0       2023.0\n",
      "6      2023-05-31 07:11:04           5.0       2023.0\n",
      "8      2023-03-20 16:36:30           3.0       2023.0\n",
      "9      2023-11-05 03:40:33          11.0       2023.0\n",
      "15     2023-03-16 12:11:51           3.0       2023.0\n"
     ]
    }
   ],
   "source": [
    "# Ensure the 'Learner SignUp DateTime' is in datetime format\n",
    "students['Learner SignUp DateTime'] = pd.to_datetime(students['Learner SignUp DateTime'], errors='coerce')\n",
    "\n",
    "# Extract the month from the 'Learner SignUp DateTime'\n",
    "students['SignUp Month'] = students['Learner SignUp DateTime'].dt.month\n",
    "\n",
    "# Extract the year from the 'Learner SignUp DateTime'\n",
    "students['SignUp Year'] = students['Learner SignUp DateTime'].dt.year\n",
    "\n",
    "# Preview the new columns\n",
    "print(students[['Learner SignUp DateTime', 'SignUp Month', 'SignUp Year']].head())"
   ]
  },
  {
   "cell_type": "markdown",
   "id": "c7df63df-44e6-47f3-aa2e-f8ed03ec4a39",
   "metadata": {},
   "source": [
    "#### 3.2: Opportunity Engagement:"
   ]
  },
  {
   "cell_type": "code",
   "execution_count": 112,
   "id": "2758123e-7876-418f-aa6e-1338a7f228ea",
   "metadata": {},
   "outputs": [
    {
     "name": "stdout",
     "output_type": "stream",
     "text": [
      "   Opportunity Start Date Opportunity End Date  Time in Opportunity (Days)\n",
      "1     2022-03-11 18:30:39  2024-06-29 18:52:39                         841\n",
      "6     2022-03-11 18:30:39  2024-06-29 18:52:39                         841\n",
      "8     2022-03-11 18:30:39  2024-06-29 18:52:39                         841\n",
      "9     2022-03-11 18:30:39  2024-06-29 18:52:39                         841\n",
      "15    2022-03-11 18:30:39  2024-06-29 18:52:39                         841\n"
     ]
    }
   ],
   "source": [
    "# Ensure the 'Opportunity Start Date' and 'Opportunity End Date' are in datetime format\n",
    "students['Opportunity Start Date'] = pd.to_datetime(students['Opportunity Start Date'], errors='coerce')\n",
    "students['Opportunity End Date'] = pd.to_datetime(students['Opportunity End Date'], errors='coerce')\n",
    "\n",
    "# Calculate the duration of each opportunity\n",
    "students['Time in Opportunity'] = students['Opportunity End Date'] - students['Opportunity Start Date']\n",
    "\n",
    "# Convert the duration to total days for easier interpretation\n",
    "students['Time in Opportunity (Days)'] = students['Time in Opportunity'].dt.days\n",
    "\n",
    "# Preview the new column\n",
    "print(students[['Opportunity Start Date', 'Opportunity End Date', 'Time in Opportunity (Days)']].head())"
   ]
  },
  {
   "cell_type": "markdown",
   "id": "e71a4603-200b-4a75-88c3-09293c3bd001",
   "metadata": {},
   "source": [
    "### 4. Combining Features"
   ]
  },
  {
   "cell_type": "markdown",
   "id": "ab9549c5-0c19-4346-955b-c89da555cd77",
   "metadata": {},
   "source": [
    "#### 4.1: Interaction Features:"
   ]
  },
  {
   "cell_type": "code",
   "execution_count": 114,
   "id": "3889d970-8d94-43d6-a942-399f7aa453ed",
   "metadata": {},
   "outputs": [
    {
     "name": "stdout",
     "output_type": "stream",
     "text": [
      "    Age of Learner  Time in Opportunity (Days)  \\\n",
      "1               24                         841   \n",
      "6               23                         841   \n",
      "8               18                         841   \n",
      "9               26                         841   \n",
      "15              19                         841   \n",
      "\n",
      "    Age of Learner x Time in Opportunity  \n",
      "1                                  20184  \n",
      "6                                  19343  \n",
      "8                                  15138  \n",
      "9                                  21866  \n",
      "15                                 15979  \n"
     ]
    }
   ],
   "source": [
    "students['Age of Learner'] = (pd.to_datetime('today') - pd.to_datetime(students['Date of Birth'], errors='coerce')).dt.days // 365\n",
    "\n",
    "# Create an interaction feature\n",
    "students['Age of Learner x Time in Opportunity'] = students['Age of Learner'] * students['Time in Opportunity (Days)']\n",
    "\n",
    "# Preview the new interaction feature\n",
    "print(students[['Age of Learner', 'Time in Opportunity (Days)', 'Age of Learner x Time in Opportunity']].head())"
   ]
  },
  {
   "cell_type": "markdown",
   "id": "19a71e40-24b3-4b65-a16c-517b89616eb6",
   "metadata": {},
   "source": [
    "#### 4.2: Engagement Scores:"
   ]
  },
  {
   "cell_type": "code",
   "execution_count": 116,
   "id": "45ee41b4-e42a-4a7f-b609-1461f5d55da3",
   "metadata": {},
   "outputs": [
    {
     "name": "stdout",
     "output_type": "stream",
     "text": [
      "    Time in Opportunity  Age of Learner  Engagement Score\n",
      "1            841.015278              24        343.606111\n",
      "6            841.015278              23        343.306111\n",
      "8            841.015278              18        341.806111\n",
      "9            841.015278              26        344.206111\n",
      "15           841.015278              19        342.106111\n"
     ]
    }
   ],
   "source": [
    "# Ensure 'Time in Opportunity' is in a numerical format (total days)\n",
    "# If 'Time in Opportunity' is a timedelta, convert it to total days\n",
    "students['Time in Opportunity'] = students['Time in Opportunity'].dt.total_seconds() / 86400  # Convert seconds to days\n",
    "\n",
    "# Step 2: Calculate Engagement Score\n",
    "students['Engagement Score'] = (\n",
    "    students['Time in Opportunity'] * 0.4 +  # Weight for Time in Opportunity\n",
    "    students['Age of Learner'] * 0.3          # Weight for Age\n",
    ")\n",
    "\n",
    "# Display the first few rows to verify\n",
    "print(students[['Time in Opportunity', 'Age of Learner', 'Engagement Score']].head())"
   ]
  },
  {
   "cell_type": "markdown",
   "id": "81e7c8df-caa4-4c0a-8171-000f11178e84",
   "metadata": {},
   "source": [
    "### 5. Temporal Analysis"
   ]
  },
  {
   "cell_type": "markdown",
   "id": "33741d1d-e9b0-4ada-80ba-e275c7a4040a",
   "metadata": {},
   "source": [
    "#### 5.1: Seasonal Patterns:"
   ]
  },
  {
   "cell_type": "code",
   "execution_count": 118,
   "id": "58385bd8-d8cd-4806-9b11-a4841b56d2d1",
   "metadata": {},
   "outputs": [
    {
     "name": "stdout",
     "output_type": "stream",
     "text": [
      "Average Engagement Score by Month:\n",
      "    SignUp Month  Engagement Score\n",
      "0            1.0        180.737884\n",
      "1            2.0        127.807341\n",
      "2            3.0        216.619093\n",
      "3            4.0        170.019258\n",
      "4            5.0        243.457998\n",
      "5            6.0        225.077620\n",
      "6            7.0        173.626427\n",
      "7            8.0        128.132607\n",
      "8            9.0        136.742063\n",
      "9           10.0        180.037348\n",
      "10          11.0        202.217854\n",
      "11          12.0        109.864043\n",
      "\n",
      "Average Engagement Score by Day of the Week:\n",
      "  SignUp Day of Week  Engagement Score\n",
      "1             Monday        187.421351\n",
      "5            Tuesday        170.536250\n",
      "6          Wednesday        183.976090\n",
      "4           Thursday        172.205362\n",
      "0             Friday        173.750877\n",
      "2           Saturday        144.113418\n",
      "3             Sunday        155.308394\n"
     ]
    }
   ],
   "source": [
    "# Step 1: Extract month and day of the week from 'Learner SignUp DateTime'\n",
    "students['SignUp Month'] = students['Learner SignUp DateTime'].dt.month\n",
    "students['SignUp Day of Week'] = students['Learner SignUp DateTime'].dt.day_name()\n",
    "\n",
    "# Step 2: Analyze average engagement score by month\n",
    "monthly_engagement = students.groupby('SignUp Month')['Engagement Score'].mean().reset_index()\n",
    "\n",
    "# Display the monthly engagement trends\n",
    "print(\"Average Engagement Score by Month:\")\n",
    "print(monthly_engagement)\n",
    "\n",
    "# Step 3: Analyze average engagement score by day of the week\n",
    "weekly_engagement = students.groupby('SignUp Day of Week')['Engagement Score'].mean().reset_index()\n",
    "\n",
    "# Sort days of the week in the correct order\n",
    "days_order = ['Monday', 'Tuesday', 'Wednesday', 'Thursday', 'Friday', 'Saturday', 'Sunday']\n",
    "weekly_engagement['SignUp Day of Week'] = pd.Categorical(weekly_engagement['SignUp Day of Week'], categories=days_order, ordered=True)\n",
    "weekly_engagement = weekly_engagement.sort_values('SignUp Day of Week')\n",
    "\n",
    "# Display the weekly engagement trends\n",
    "print(\"\\nAverage Engagement Score by Day of the Week:\")\n",
    "print(weekly_engagement)"
   ]
  },
  {
   "cell_type": "markdown",
   "id": "d9f4b278-b921-4ee0-93e9-519c719fc92f",
   "metadata": {},
   "source": [
    "### 6: miscellaneous (aka my own) feature engineering steps:"
   ]
  },
  {
   "cell_type": "markdown",
   "id": "4e541eb3-4fda-427b-a84d-470ea1308296",
   "metadata": {},
   "source": [
    "#### 6.1: Time Since Last Engagement:"
   ]
  },
  {
   "cell_type": "code",
   "execution_count": 120,
   "id": "5f61e825-94b5-4a7d-a017-d3c543838145",
   "metadata": {},
   "outputs": [
    {
     "name": "stdout",
     "output_type": "stream",
     "text": [
      "    Days Since Last Engagement\n",
      "1                          NaN\n",
      "6                        445.0\n",
      "8                        373.0\n",
      "9                        603.0\n",
      "15                       369.0\n"
     ]
    }
   ],
   "source": [
    "students['Last Engagement Date'] = students['Opportunity Start Date'].shift()  # Assuming opportunities are sorted by date\n",
    "students['Days Since Last Engagement'] = (students['Learner SignUp DateTime'] - students['Last Engagement Date']).dt.days\n",
    "print(students[['Days Since Last Engagement']].head())"
   ]
  },
  {
   "cell_type": "markdown",
   "id": "144d0f05-3754-48ca-ab69-bb70453c1914",
   "metadata": {},
   "source": [
    "#### 6.2: Target Variable Creation:"
   ]
  },
  {
   "cell_type": "code",
   "execution_count": 122,
   "id": "7fd36b29-9c6e-4f77-acd9-8f50a7afca6f",
   "metadata": {},
   "outputs": [
    {
     "name": "stdout",
     "output_type": "stream",
     "text": [
      "    High Engagement\n",
      "1                 1\n",
      "6                 1\n",
      "8                 1\n",
      "9                 1\n",
      "15                1\n"
     ]
    }
   ],
   "source": [
    "engagement_threshold = students['Engagement Score'].median()\n",
    "students['High Engagement'] = (students['Engagement Score'] > engagement_threshold).astype(int)\n",
    "print(students[['High Engagement']].head())"
   ]
  },
  {
   "cell_type": "code",
   "execution_count": 124,
   "id": "7e478bc9-f57e-4294-a269-0720607660cb",
   "metadata": {},
   "outputs": [
    {
     "name": "stdout",
     "output_type": "stream",
     "text": [
      "DataFrame saved to 'AI_internship_Week1.csv'\n"
     ]
    }
   ],
   "source": [
    "# Save the modified DataFrame to a CSV file\n",
    "students.to_csv('AI_internship_Week1.csv', index=False)\n",
    "\n",
    "print(\"DataFrame saved to 'AI_internship_Week1.csv'\")"
   ]
  },
  {
   "cell_type": "code",
   "execution_count": 126,
   "id": "d88eb314-3b69-4347-8f7a-47b815ee144b",
   "metadata": {},
   "outputs": [
    {
     "name": "stdout",
     "output_type": "stream",
     "text": [
      "<class 'pandas.core.frame.DataFrame'>\n",
      "Int64Index: 1125 entries, 1 to 8553\n",
      "Data columns (total 35 columns):\n",
      " #   Column                                Non-Null Count  Dtype         \n",
      "---  ------                                --------------  -----         \n",
      " 0   Learner SignUp DateTime               1113 non-null   datetime64[ns]\n",
      " 1   Opportunity Name                      1125 non-null   object        \n",
      " 2   Opportunity Category                  1125 non-null   object        \n",
      " 3   Opportunity End Date                  1125 non-null   datetime64[ns]\n",
      " 4   First Name                            1125 non-null   object        \n",
      " 5   Last Name                             1125 non-null   object        \n",
      " 6   Date of Birth                         1125 non-null   datetime64[ns]\n",
      " 7   Gender                                1125 non-null   object        \n",
      " 8   Mobile Number                         1125 non-null   object        \n",
      " 9   Address Line 1                        1125 non-null   object        \n",
      " 10  City                                  1125 non-null   object        \n",
      " 11  State                                 1125 non-null   object        \n",
      " 12  Country                               1125 non-null   object        \n",
      " 13  Zip Code                              1125 non-null   int32         \n",
      " 14  Institution Name                      1125 non-null   object        \n",
      " 15  Graduation Date                       1125 non-null   datetime64[ns]\n",
      " 16  Current Student Status                1125 non-null   object        \n",
      " 17  Current/Intended Major                1125 non-null   object        \n",
      " 18  Entry created at                      1125 non-null   datetime64[ns]\n",
      " 19  Status Description                    1125 non-null   object        \n",
      " 20  Status Code                           1125 non-null   float64       \n",
      " 21  Apply Date                            1125 non-null   datetime64[ns]\n",
      " 22  Opportunity Start Date                1125 non-null   datetime64[ns]\n",
      " 23  Age of Learner                        1125 non-null   int64         \n",
      " 24  Engagement Duration                   1125 non-null   float64       \n",
      " 25  SignUp Month                          1113 non-null   float64       \n",
      " 26  SignUp Year                           1113 non-null   float64       \n",
      " 27  Time in Opportunity                   1125 non-null   float64       \n",
      " 28  Time in Opportunity (Days)            1125 non-null   int64         \n",
      " 29  Age of Learner x Time in Opportunity  1125 non-null   int64         \n",
      " 30  Engagement Score                      1125 non-null   float64       \n",
      " 31  SignUp Day of Week                    1113 non-null   object        \n",
      " 32  Last Engagement Date                  1124 non-null   datetime64[ns]\n",
      " 33  Days Since Last Engagement            1112 non-null   float64       \n",
      " 34  High Engagement                       1125 non-null   int32         \n",
      "dtypes: datetime64[ns](8), float64(7), int32(2), int64(3), object(15)\n",
      "memory usage: 307.6+ KB\n"
     ]
    }
   ],
   "source": [
    "students.info()"
   ]
  },
  {
   "cell_type": "code",
   "execution_count": 128,
   "id": "cd57a4cf-b745-4bd6-a39c-4b852fdeb6aa",
   "metadata": {},
   "outputs": [
    {
     "data": {
      "text/html": [
       "<div>\n",
       "<style scoped>\n",
       "    .dataframe tbody tr th:only-of-type {\n",
       "        vertical-align: middle;\n",
       "    }\n",
       "\n",
       "    .dataframe tbody tr th {\n",
       "        vertical-align: top;\n",
       "    }\n",
       "\n",
       "    .dataframe thead th {\n",
       "        text-align: right;\n",
       "    }\n",
       "</style>\n",
       "<table border=\"1\" class=\"dataframe\">\n",
       "  <thead>\n",
       "    <tr style=\"text-align: right;\">\n",
       "      <th></th>\n",
       "      <th>Learner SignUp DateTime</th>\n",
       "      <th>Opportunity Name</th>\n",
       "      <th>Opportunity Category</th>\n",
       "      <th>Opportunity End Date</th>\n",
       "      <th>First Name</th>\n",
       "      <th>Last Name</th>\n",
       "      <th>Date of Birth</th>\n",
       "      <th>Gender</th>\n",
       "      <th>Mobile Number</th>\n",
       "      <th>Address Line 1</th>\n",
       "      <th>...</th>\n",
       "      <th>SignUp Month</th>\n",
       "      <th>SignUp Year</th>\n",
       "      <th>Time in Opportunity</th>\n",
       "      <th>Time in Opportunity (Days)</th>\n",
       "      <th>Age of Learner x Time in Opportunity</th>\n",
       "      <th>Engagement Score</th>\n",
       "      <th>SignUp Day of Week</th>\n",
       "      <th>Last Engagement Date</th>\n",
       "      <th>Days Since Last Engagement</th>\n",
       "      <th>High Engagement</th>\n",
       "    </tr>\n",
       "  </thead>\n",
       "  <tbody>\n",
       "    <tr>\n",
       "      <th>1</th>\n",
       "      <td>2023-01-05 05:29:16</td>\n",
       "      <td>Career Essentials: Getting Started with Your P...</td>\n",
       "      <td>Course</td>\n",
       "      <td>2024-06-29 18:52:39</td>\n",
       "      <td>Poojitha</td>\n",
       "      <td>Bembadi</td>\n",
       "      <td>2000-08-16</td>\n",
       "      <td>Female</td>\n",
       "      <td>+919381442895</td>\n",
       "      <td>H.no 18/4  sultanpur village</td>\n",
       "      <td>...</td>\n",
       "      <td>1.0</td>\n",
       "      <td>2023.0</td>\n",
       "      <td>841.015278</td>\n",
       "      <td>841</td>\n",
       "      <td>20184</td>\n",
       "      <td>343.606111</td>\n",
       "      <td>Thursday</td>\n",
       "      <td>NaT</td>\n",
       "      <td>NaN</td>\n",
       "      <td>1</td>\n",
       "    </tr>\n",
       "    <tr>\n",
       "      <th>6</th>\n",
       "      <td>2023-05-31 07:11:04</td>\n",
       "      <td>Career Essentials: Getting Started with Your P...</td>\n",
       "      <td>Course</td>\n",
       "      <td>2024-06-29 18:52:39</td>\n",
       "      <td>Fardeen</td>\n",
       "      <td>Shroff</td>\n",
       "      <td>2001-09-09</td>\n",
       "      <td>Male</td>\n",
       "      <td>+919820278783</td>\n",
       "      <td>E 701 702 Madhuban Chs Yari Road</td>\n",
       "      <td>...</td>\n",
       "      <td>5.0</td>\n",
       "      <td>2023.0</td>\n",
       "      <td>841.015278</td>\n",
       "      <td>841</td>\n",
       "      <td>19343</td>\n",
       "      <td>343.306111</td>\n",
       "      <td>Wednesday</td>\n",
       "      <td>2022-03-11 18:30:39</td>\n",
       "      <td>445.0</td>\n",
       "      <td>1</td>\n",
       "    </tr>\n",
       "    <tr>\n",
       "      <th>8</th>\n",
       "      <td>2023-03-20 16:36:30</td>\n",
       "      <td>Career Essentials: Getting Started with Your P...</td>\n",
       "      <td>Course</td>\n",
       "      <td>2024-06-29 18:52:39</td>\n",
       "      <td>SIDDHARTH</td>\n",
       "      <td>RAJAWAT</td>\n",
       "      <td>2005-12-22</td>\n",
       "      <td>Male</td>\n",
       "      <td>+919870953256</td>\n",
       "      <td>Plot No. 125</td>\n",
       "      <td>...</td>\n",
       "      <td>3.0</td>\n",
       "      <td>2023.0</td>\n",
       "      <td>841.015278</td>\n",
       "      <td>841</td>\n",
       "      <td>15138</td>\n",
       "      <td>341.806111</td>\n",
       "      <td>Monday</td>\n",
       "      <td>2022-03-11 18:30:39</td>\n",
       "      <td>373.0</td>\n",
       "      <td>1</td>\n",
       "    </tr>\n",
       "    <tr>\n",
       "      <th>9</th>\n",
       "      <td>2023-11-05 03:40:33</td>\n",
       "      <td>Career Essentials: Getting Started with Your P...</td>\n",
       "      <td>Course</td>\n",
       "      <td>2024-06-29 18:52:39</td>\n",
       "      <td>Vanshika</td>\n",
       "      <td>Varshney</td>\n",
       "      <td>1998-06-26</td>\n",
       "      <td>Female</td>\n",
       "      <td>+919549824344</td>\n",
       "      <td>RK Puram ph 2  Block 11-A</td>\n",
       "      <td>...</td>\n",
       "      <td>11.0</td>\n",
       "      <td>2023.0</td>\n",
       "      <td>841.015278</td>\n",
       "      <td>841</td>\n",
       "      <td>21866</td>\n",
       "      <td>344.206111</td>\n",
       "      <td>Sunday</td>\n",
       "      <td>2022-03-11 18:30:39</td>\n",
       "      <td>603.0</td>\n",
       "      <td>1</td>\n",
       "    </tr>\n",
       "    <tr>\n",
       "      <th>15</th>\n",
       "      <td>2023-03-16 12:11:51</td>\n",
       "      <td>Career Essentials: Getting Started with Your P...</td>\n",
       "      <td>Course</td>\n",
       "      <td>2024-06-29 18:52:39</td>\n",
       "      <td>Harjot</td>\n",
       "      <td>Kaur</td>\n",
       "      <td>2004-12-04</td>\n",
       "      <td>Female</td>\n",
       "      <td>+917009510486</td>\n",
       "      <td>Bathinda</td>\n",
       "      <td>...</td>\n",
       "      <td>3.0</td>\n",
       "      <td>2023.0</td>\n",
       "      <td>841.015278</td>\n",
       "      <td>841</td>\n",
       "      <td>15979</td>\n",
       "      <td>342.106111</td>\n",
       "      <td>Thursday</td>\n",
       "      <td>2022-03-11 18:30:39</td>\n",
       "      <td>369.0</td>\n",
       "      <td>1</td>\n",
       "    </tr>\n",
       "  </tbody>\n",
       "</table>\n",
       "<p>5 rows × 35 columns</p>\n",
       "</div>"
      ],
      "text/plain": [
       "   Learner SignUp DateTime                                   Opportunity Name  \\\n",
       "1      2023-01-05 05:29:16  Career Essentials: Getting Started with Your P...   \n",
       "6      2023-05-31 07:11:04  Career Essentials: Getting Started with Your P...   \n",
       "8      2023-03-20 16:36:30  Career Essentials: Getting Started with Your P...   \n",
       "9      2023-11-05 03:40:33  Career Essentials: Getting Started with Your P...   \n",
       "15     2023-03-16 12:11:51  Career Essentials: Getting Started with Your P...   \n",
       "\n",
       "   Opportunity Category Opportunity End Date First Name Last Name  \\\n",
       "1                Course  2024-06-29 18:52:39   Poojitha   Bembadi   \n",
       "6                Course  2024-06-29 18:52:39    Fardeen    Shroff   \n",
       "8                Course  2024-06-29 18:52:39  SIDDHARTH   RAJAWAT   \n",
       "9                Course  2024-06-29 18:52:39   Vanshika  Varshney   \n",
       "15               Course  2024-06-29 18:52:39     Harjot      Kaur   \n",
       "\n",
       "   Date of Birth  Gender  Mobile Number                    Address Line 1  \\\n",
       "1     2000-08-16  Female  +919381442895      H.no 18/4  sultanpur village   \n",
       "6     2001-09-09    Male  +919820278783  E 701 702 Madhuban Chs Yari Road   \n",
       "8     2005-12-22    Male  +919870953256                      Plot No. 125   \n",
       "9     1998-06-26  Female  +919549824344         RK Puram ph 2  Block 11-A   \n",
       "15    2004-12-04  Female  +917009510486                          Bathinda   \n",
       "\n",
       "    ... SignUp Month SignUp Year Time in Opportunity  \\\n",
       "1   ...          1.0      2023.0          841.015278   \n",
       "6   ...          5.0      2023.0          841.015278   \n",
       "8   ...          3.0      2023.0          841.015278   \n",
       "9   ...         11.0      2023.0          841.015278   \n",
       "15  ...          3.0      2023.0          841.015278   \n",
       "\n",
       "    Time in Opportunity (Days) Age of Learner x Time in Opportunity  \\\n",
       "1                          841                                20184   \n",
       "6                          841                                19343   \n",
       "8                          841                                15138   \n",
       "9                          841                                21866   \n",
       "15                         841                                15979   \n",
       "\n",
       "   Engagement Score SignUp Day of Week Last Engagement Date  \\\n",
       "1        343.606111           Thursday                  NaT   \n",
       "6        343.306111          Wednesday  2022-03-11 18:30:39   \n",
       "8        341.806111             Monday  2022-03-11 18:30:39   \n",
       "9        344.206111             Sunday  2022-03-11 18:30:39   \n",
       "15       342.106111           Thursday  2022-03-11 18:30:39   \n",
       "\n",
       "   Days Since Last Engagement High Engagement  \n",
       "1                         NaN               1  \n",
       "6                       445.0               1  \n",
       "8                       373.0               1  \n",
       "9                       603.0               1  \n",
       "15                      369.0               1  \n",
       "\n",
       "[5 rows x 35 columns]"
      ]
     },
     "execution_count": 128,
     "metadata": {},
     "output_type": "execute_result"
    }
   ],
   "source": [
    "students.head()"
   ]
  },
  {
   "cell_type": "code",
   "execution_count": 130,
   "id": "6937ff0c-affd-4dc4-b867-0e6a51508fdf",
   "metadata": {},
   "outputs": [
    {
     "name": "stdout",
     "output_type": "stream",
     "text": [
      "Columns with empty entries:\n",
      "Learner SignUp DateTime       12\n",
      "SignUp Month                  12\n",
      "SignUp Year                   12\n",
      "SignUp Day of Week            12\n",
      "Last Engagement Date           1\n",
      "Days Since Last Engagement    13\n",
      "dtype: int64\n",
      "Total number of empty entries: 62\n"
     ]
    }
   ],
   "source": [
    "# 1. Count the number of NaN values in each column\n",
    "empty_per_column = students.isna().sum()\n",
    "\n",
    "# 2. Filter columns that have at least one NaN\n",
    "columns_with_empty = empty_per_column[empty_per_column > 0]\n",
    "\n",
    "# 3. Total number of NaN values across the entire dataframe\n",
    "total_empty = students.isna().sum().sum()\n",
    "\n",
    "print(f\"Columns with empty entries:\\n{columns_with_empty}\")\n",
    "print(f\"Total number of empty entries: {total_empty}\")"
   ]
  },
  {
   "cell_type": "code",
   "execution_count": 132,
   "id": "f78ae448-838e-4b67-b0b5-5cf56333cd3b",
   "metadata": {},
   "outputs": [
    {
     "name": "stdout",
     "output_type": "stream",
     "text": [
      "Original DataFrame shape: (1112, 35)\n",
      "Cleaned DataFrame shape: (1112, 35)\n"
     ]
    }
   ],
   "source": [
    "# Drop all rows with missing entries\n",
    "students = students.dropna()\n",
    "\n",
    "# Optionally, check the result\n",
    "print(f\"Original DataFrame shape: {students.shape}\")\n",
    "print(f\"Cleaned DataFrame shape: {students.shape}\")"
   ]
  },
  {
   "cell_type": "code",
   "execution_count": 134,
   "id": "eb9c404a-c50a-46f6-b319-5dde4e6ceecb",
   "metadata": {},
   "outputs": [
    {
     "name": "stdout",
     "output_type": "stream",
     "text": [
      "Columns with empty entries:\n",
      "Series([], dtype: int64)\n",
      "Total number of empty entries: 0\n"
     ]
    }
   ],
   "source": [
    "# 1. Count the number of NaN values in each column\n",
    "empty_per_column = students.isna().sum()\n",
    "\n",
    "# 2. Filter columns that have at least one NaN\n",
    "columns_with_empty = empty_per_column[empty_per_column > 0]\n",
    "\n",
    "# 3. Total number of NaN values across the entire dataframe\n",
    "total_empty = students.isna().sum().sum()\n",
    "\n",
    "print(f\"Columns with empty entries:\\n{columns_with_empty}\")\n",
    "print(f\"Total number of empty entries: {total_empty}\")"
   ]
  },
  {
   "cell_type": "markdown",
   "id": "b41e6a13-f206-4660-b14e-9a998f01ec82",
   "metadata": {},
   "source": [
    "Dataset now has 0 missing values, and is cleaned properly."
   ]
  },
  {
   "cell_type": "code",
   "execution_count": 137,
   "id": "9afce83e-cd22-4a48-88f7-f1eed2cabbe7",
   "metadata": {},
   "outputs": [
    {
     "name": "stdout",
     "output_type": "stream",
     "text": [
      "DataFrame saved to 'AI_internship_Week1.csv'\n"
     ]
    }
   ],
   "source": [
    "# Save the modified DataFrame to a CSV file\n",
    "students.to_csv('AI_internship_Week1.csv', index=False)\n",
    "\n",
    "print(\"DataFrame saved to 'AI_internship_Week1.csv'\")"
   ]
  },
  {
   "cell_type": "code",
   "execution_count": null,
   "id": "00fd4e14-d757-4b56-bacb-a46534d6dec8",
   "metadata": {},
   "outputs": [],
   "source": []
  }
 ],
 "metadata": {
  "kernelspec": {
   "display_name": "Python 3 (ipykernel)",
   "language": "python",
   "name": "python3"
  },
  "language_info": {
   "codemirror_mode": {
    "name": "ipython",
    "version": 3
   },
   "file_extension": ".py",
   "mimetype": "text/x-python",
   "name": "python",
   "nbconvert_exporter": "python",
   "pygments_lexer": "ipython3",
   "version": "3.9.19"
  }
 },
 "nbformat": 4,
 "nbformat_minor": 5
}
